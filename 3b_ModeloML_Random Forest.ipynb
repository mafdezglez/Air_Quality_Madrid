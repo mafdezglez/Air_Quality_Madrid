{
 "cells": [
  {
   "cell_type": "markdown",
   "metadata": {},
   "source": [
    "# Modelo ML - Random Forest"
   ]
  },
  {
   "cell_type": "code",
   "execution_count": 1,
   "metadata": {},
   "outputs": [],
   "source": [
    "import pandas as pd\n",
    "import matplotlib.pyplot as plt\n",
    "%matplotlib inline"
   ]
  },
  {
   "cell_type": "code",
   "execution_count": 2,
   "metadata": {},
   "outputs": [],
   "source": [
    "df_CA = pd.read_csv(\"./data/CalidadAire.csv\")\n",
    "df_CA = df_CA[df_CA[\"ESTACION\"]==8]\n",
    "df_CA['FECHA'] = pd.to_datetime(df_CA['FECHA'], format = '%Y-%m-%d %H:%M:%S')"
   ]
  },
  {
   "cell_type": "code",
   "execution_count": 3,
   "metadata": {},
   "outputs": [],
   "source": [
    "df_Tr = pd.read_csv(\"./data/Trafico.csv\")\n",
    "df_Tr = df_Tr[df_Tr[\"estacion_CalidadAire\"]==8]\n",
    "df_Tr['fecha'] = pd.to_datetime(df_Tr['fecha'], format = '%Y-%m-%d %H:%M:%S')"
   ]
  },
  {
   "cell_type": "code",
   "execution_count": 4,
   "metadata": {},
   "outputs": [],
   "source": [
    "df = pd.merge(df_CA, df_Tr, left_on=[\"FECHA\", \"ESTACION\"], right_on=[\"fecha\", \"estacion_CalidadAire\"])"
   ]
  },
  {
   "cell_type": "code",
   "execution_count": 5,
   "metadata": {},
   "outputs": [],
   "source": [
    "df.drop(['Unnamed: 0_x', 'ESTACION', 'estacion_CalidadAire', 'fecha', 'Unnamed: 0_y', 'vmed'], \n",
    "        axis=1, inplace=True)"
   ]
  },
  {
   "cell_type": "code",
   "execution_count": 6,
   "metadata": {},
   "outputs": [
    {
     "data": {
      "text/html": [
       "<div>\n",
       "<style scoped>\n",
       "    .dataframe tbody tr th:only-of-type {\n",
       "        vertical-align: middle;\n",
       "    }\n",
       "\n",
       "    .dataframe tbody tr th {\n",
       "        vertical-align: top;\n",
       "    }\n",
       "\n",
       "    .dataframe thead th {\n",
       "        text-align: right;\n",
       "    }\n",
       "</style>\n",
       "<table border=\"1\" class=\"dataframe\">\n",
       "  <thead>\n",
       "    <tr style=\"text-align: right;\">\n",
       "      <th></th>\n",
       "      <th>FECHA</th>\n",
       "      <th>SO2</th>\n",
       "      <th>CO</th>\n",
       "      <th>NO2</th>\n",
       "      <th>PM10</th>\n",
       "      <th>O3</th>\n",
       "      <th>intensidad</th>\n",
       "      <th>ocupacion</th>\n",
       "      <th>carga</th>\n",
       "    </tr>\n",
       "  </thead>\n",
       "  <tbody>\n",
       "    <tr>\n",
       "      <th>0</th>\n",
       "      <td>2014-01-01 01:00:00</td>\n",
       "      <td>6.0</td>\n",
       "      <td>0.2</td>\n",
       "      <td>40.0</td>\n",
       "      <td>24.0</td>\n",
       "      <td>24.0</td>\n",
       "      <td>4.333333</td>\n",
       "      <td>1.666667</td>\n",
       "      <td>4.333333</td>\n",
       "    </tr>\n",
       "    <tr>\n",
       "      <th>1</th>\n",
       "      <td>2014-01-01 02:00:00</td>\n",
       "      <td>6.0</td>\n",
       "      <td>0.2</td>\n",
       "      <td>42.0</td>\n",
       "      <td>17.0</td>\n",
       "      <td>24.0</td>\n",
       "      <td>4.000000</td>\n",
       "      <td>5.250000</td>\n",
       "      <td>4.750000</td>\n",
       "    </tr>\n",
       "    <tr>\n",
       "      <th>2</th>\n",
       "      <td>2014-01-01 03:00:00</td>\n",
       "      <td>6.0</td>\n",
       "      <td>0.2</td>\n",
       "      <td>29.0</td>\n",
       "      <td>11.0</td>\n",
       "      <td>29.0</td>\n",
       "      <td>3.000000</td>\n",
       "      <td>0.250000</td>\n",
       "      <td>2.250000</td>\n",
       "    </tr>\n",
       "    <tr>\n",
       "      <th>3</th>\n",
       "      <td>2014-01-01 04:00:00</td>\n",
       "      <td>6.0</td>\n",
       "      <td>0.1</td>\n",
       "      <td>21.0</td>\n",
       "      <td>8.0</td>\n",
       "      <td>35.0</td>\n",
       "      <td>0.000000</td>\n",
       "      <td>0.000000</td>\n",
       "      <td>0.000000</td>\n",
       "    </tr>\n",
       "    <tr>\n",
       "      <th>4</th>\n",
       "      <td>2014-01-01 05:00:00</td>\n",
       "      <td>6.0</td>\n",
       "      <td>0.1</td>\n",
       "      <td>23.0</td>\n",
       "      <td>7.0</td>\n",
       "      <td>35.0</td>\n",
       "      <td>3.000000</td>\n",
       "      <td>0.000000</td>\n",
       "      <td>2.250000</td>\n",
       "    </tr>\n",
       "  </tbody>\n",
       "</table>\n",
       "</div>"
      ],
      "text/plain": [
       "                FECHA  SO2   CO   NO2  PM10    O3  intensidad  ocupacion  \\\n",
       "0 2014-01-01 01:00:00  6.0  0.2  40.0  24.0  24.0    4.333333   1.666667   \n",
       "1 2014-01-01 02:00:00  6.0  0.2  42.0  17.0  24.0    4.000000   5.250000   \n",
       "2 2014-01-01 03:00:00  6.0  0.2  29.0  11.0  29.0    3.000000   0.250000   \n",
       "3 2014-01-01 04:00:00  6.0  0.1  21.0   8.0  35.0    0.000000   0.000000   \n",
       "4 2014-01-01 05:00:00  6.0  0.1  23.0   7.0  35.0    3.000000   0.000000   \n",
       "\n",
       "      carga  \n",
       "0  4.333333  \n",
       "1  4.750000  \n",
       "2  2.250000  \n",
       "3  0.000000  \n",
       "4  2.250000  "
      ]
     },
     "execution_count": 6,
     "metadata": {},
     "output_type": "execute_result"
    }
   ],
   "source": [
    "df.head()"
   ]
  },
  {
   "cell_type": "code",
   "execution_count": 7,
   "metadata": {},
   "outputs": [],
   "source": [
    "# Dado un dataframe con diferentes series temporales, devuelve el dataframe \n",
    "# con los diferentes lags generados para cada una de sus columnas\n",
    "\n",
    "def generaLags(df, max_lag, min_lag=0, separator='_'):\n",
    "    values=[]\n",
    "    for i in range(min_lag, max_lag + 1):\n",
    "        values.append(df.shift(i).copy())\n",
    "        values[-1].columns = [c + separator + str(i) for c in df.columns]\n",
    "        \n",
    "    return pd.concat(values, axis=1)"
   ]
  },
  {
   "cell_type": "code",
   "execution_count": 8,
   "metadata": {},
   "outputs": [],
   "source": [
    "max_lag = 400\n",
    "df_lags = generaLags(df[['SO2', 'CO', 'NO2', 'PM10', 'O3', 'intensidad', 'ocupacion', 'carga']], max_lag)"
   ]
  },
  {
   "cell_type": "code",
   "execution_count": 9,
   "metadata": {},
   "outputs": [
    {
     "data": {
      "text/html": [
       "<div>\n",
       "<style scoped>\n",
       "    .dataframe tbody tr th:only-of-type {\n",
       "        vertical-align: middle;\n",
       "    }\n",
       "\n",
       "    .dataframe tbody tr th {\n",
       "        vertical-align: top;\n",
       "    }\n",
       "\n",
       "    .dataframe thead th {\n",
       "        text-align: right;\n",
       "    }\n",
       "</style>\n",
       "<table border=\"1\" class=\"dataframe\">\n",
       "  <thead>\n",
       "    <tr style=\"text-align: right;\">\n",
       "      <th></th>\n",
       "      <th>SO2_0</th>\n",
       "      <th>CO_0</th>\n",
       "      <th>NO2_0</th>\n",
       "      <th>PM10_0</th>\n",
       "      <th>O3_0</th>\n",
       "      <th>intensidad_0</th>\n",
       "      <th>ocupacion_0</th>\n",
       "      <th>carga_0</th>\n",
       "      <th>SO2_1</th>\n",
       "      <th>CO_1</th>\n",
       "      <th>...</th>\n",
       "      <th>ocupacion_399</th>\n",
       "      <th>carga_399</th>\n",
       "      <th>SO2_400</th>\n",
       "      <th>CO_400</th>\n",
       "      <th>NO2_400</th>\n",
       "      <th>PM10_400</th>\n",
       "      <th>O3_400</th>\n",
       "      <th>intensidad_400</th>\n",
       "      <th>ocupacion_400</th>\n",
       "      <th>carga_400</th>\n",
       "    </tr>\n",
       "  </thead>\n",
       "  <tbody>\n",
       "    <tr>\n",
       "      <th>0</th>\n",
       "      <td>6.0</td>\n",
       "      <td>0.2</td>\n",
       "      <td>40.0</td>\n",
       "      <td>24.0</td>\n",
       "      <td>24.0</td>\n",
       "      <td>4.333333</td>\n",
       "      <td>1.666667</td>\n",
       "      <td>4.333333</td>\n",
       "      <td>NaN</td>\n",
       "      <td>NaN</td>\n",
       "      <td>...</td>\n",
       "      <td>NaN</td>\n",
       "      <td>NaN</td>\n",
       "      <td>NaN</td>\n",
       "      <td>NaN</td>\n",
       "      <td>NaN</td>\n",
       "      <td>NaN</td>\n",
       "      <td>NaN</td>\n",
       "      <td>NaN</td>\n",
       "      <td>NaN</td>\n",
       "      <td>NaN</td>\n",
       "    </tr>\n",
       "    <tr>\n",
       "      <th>1</th>\n",
       "      <td>6.0</td>\n",
       "      <td>0.2</td>\n",
       "      <td>42.0</td>\n",
       "      <td>17.0</td>\n",
       "      <td>24.0</td>\n",
       "      <td>4.000000</td>\n",
       "      <td>5.250000</td>\n",
       "      <td>4.750000</td>\n",
       "      <td>6.0</td>\n",
       "      <td>0.2</td>\n",
       "      <td>...</td>\n",
       "      <td>NaN</td>\n",
       "      <td>NaN</td>\n",
       "      <td>NaN</td>\n",
       "      <td>NaN</td>\n",
       "      <td>NaN</td>\n",
       "      <td>NaN</td>\n",
       "      <td>NaN</td>\n",
       "      <td>NaN</td>\n",
       "      <td>NaN</td>\n",
       "      <td>NaN</td>\n",
       "    </tr>\n",
       "    <tr>\n",
       "      <th>2</th>\n",
       "      <td>6.0</td>\n",
       "      <td>0.2</td>\n",
       "      <td>29.0</td>\n",
       "      <td>11.0</td>\n",
       "      <td>29.0</td>\n",
       "      <td>3.000000</td>\n",
       "      <td>0.250000</td>\n",
       "      <td>2.250000</td>\n",
       "      <td>6.0</td>\n",
       "      <td>0.2</td>\n",
       "      <td>...</td>\n",
       "      <td>NaN</td>\n",
       "      <td>NaN</td>\n",
       "      <td>NaN</td>\n",
       "      <td>NaN</td>\n",
       "      <td>NaN</td>\n",
       "      <td>NaN</td>\n",
       "      <td>NaN</td>\n",
       "      <td>NaN</td>\n",
       "      <td>NaN</td>\n",
       "      <td>NaN</td>\n",
       "    </tr>\n",
       "    <tr>\n",
       "      <th>3</th>\n",
       "      <td>6.0</td>\n",
       "      <td>0.1</td>\n",
       "      <td>21.0</td>\n",
       "      <td>8.0</td>\n",
       "      <td>35.0</td>\n",
       "      <td>0.000000</td>\n",
       "      <td>0.000000</td>\n",
       "      <td>0.000000</td>\n",
       "      <td>6.0</td>\n",
       "      <td>0.2</td>\n",
       "      <td>...</td>\n",
       "      <td>NaN</td>\n",
       "      <td>NaN</td>\n",
       "      <td>NaN</td>\n",
       "      <td>NaN</td>\n",
       "      <td>NaN</td>\n",
       "      <td>NaN</td>\n",
       "      <td>NaN</td>\n",
       "      <td>NaN</td>\n",
       "      <td>NaN</td>\n",
       "      <td>NaN</td>\n",
       "    </tr>\n",
       "    <tr>\n",
       "      <th>4</th>\n",
       "      <td>6.0</td>\n",
       "      <td>0.1</td>\n",
       "      <td>23.0</td>\n",
       "      <td>7.0</td>\n",
       "      <td>35.0</td>\n",
       "      <td>3.000000</td>\n",
       "      <td>0.000000</td>\n",
       "      <td>2.250000</td>\n",
       "      <td>6.0</td>\n",
       "      <td>0.1</td>\n",
       "      <td>...</td>\n",
       "      <td>NaN</td>\n",
       "      <td>NaN</td>\n",
       "      <td>NaN</td>\n",
       "      <td>NaN</td>\n",
       "      <td>NaN</td>\n",
       "      <td>NaN</td>\n",
       "      <td>NaN</td>\n",
       "      <td>NaN</td>\n",
       "      <td>NaN</td>\n",
       "      <td>NaN</td>\n",
       "    </tr>\n",
       "  </tbody>\n",
       "</table>\n",
       "<p>5 rows × 3208 columns</p>\n",
       "</div>"
      ],
      "text/plain": [
       "   SO2_0  CO_0  NO2_0  PM10_0  O3_0  intensidad_0  ocupacion_0   carga_0  \\\n",
       "0    6.0   0.2   40.0    24.0  24.0      4.333333     1.666667  4.333333   \n",
       "1    6.0   0.2   42.0    17.0  24.0      4.000000     5.250000  4.750000   \n",
       "2    6.0   0.2   29.0    11.0  29.0      3.000000     0.250000  2.250000   \n",
       "3    6.0   0.1   21.0     8.0  35.0      0.000000     0.000000  0.000000   \n",
       "4    6.0   0.1   23.0     7.0  35.0      3.000000     0.000000  2.250000   \n",
       "\n",
       "   SO2_1  CO_1    ...      ocupacion_399  carga_399  SO2_400  CO_400  NO2_400  \\\n",
       "0    NaN   NaN    ...                NaN        NaN      NaN     NaN      NaN   \n",
       "1    6.0   0.2    ...                NaN        NaN      NaN     NaN      NaN   \n",
       "2    6.0   0.2    ...                NaN        NaN      NaN     NaN      NaN   \n",
       "3    6.0   0.2    ...                NaN        NaN      NaN     NaN      NaN   \n",
       "4    6.0   0.1    ...                NaN        NaN      NaN     NaN      NaN   \n",
       "\n",
       "   PM10_400  O3_400  intensidad_400  ocupacion_400  carga_400  \n",
       "0       NaN     NaN             NaN            NaN        NaN  \n",
       "1       NaN     NaN             NaN            NaN        NaN  \n",
       "2       NaN     NaN             NaN            NaN        NaN  \n",
       "3       NaN     NaN             NaN            NaN        NaN  \n",
       "4       NaN     NaN             NaN            NaN        NaN  \n",
       "\n",
       "[5 rows x 3208 columns]"
      ]
     },
     "execution_count": 9,
     "metadata": {},
     "output_type": "execute_result"
    }
   ],
   "source": [
    "df_lags.head()"
   ]
  },
  {
   "cell_type": "code",
   "execution_count": 10,
   "metadata": {},
   "outputs": [],
   "source": [
    "df_lags = pd.concat([df['FECHA'], df_lags], axis=1)"
   ]
  },
  {
   "cell_type": "code",
   "execution_count": 11,
   "metadata": {},
   "outputs": [],
   "source": [
    "df_lags=df_lags.dropna()"
   ]
  },
  {
   "cell_type": "code",
   "execution_count": 12,
   "metadata": {},
   "outputs": [],
   "source": [
    "# Creando los conjuntos de datos de train y test\n",
    "\n",
    "df_train = df_lags[:int(0.8*(len(df_lags)))]\n",
    "df_test  = df_lags[int(0.8*(len(df_lags))):]"
   ]
  },
  {
   "cell_type": "code",
   "execution_count": 13,
   "metadata": {},
   "outputs": [],
   "source": [
    "cols_predictors   = df_lags.columns[6:]\n",
    "cols_predictibles = df_lags.columns[1:6]"
   ]
  },
  {
   "cell_type": "code",
   "execution_count": 14,
   "metadata": {},
   "outputs": [],
   "source": [
    "X = df_train[cols_predictors]\n",
    "y = df_train[cols_predictibles]"
   ]
  },
  {
   "cell_type": "code",
   "execution_count": 15,
   "metadata": {},
   "outputs": [],
   "source": [
    "X_test = df_test[cols_predictors]\n",
    "y_test = df_test[cols_predictibles]"
   ]
  },
  {
   "cell_type": "code",
   "execution_count": 16,
   "metadata": {},
   "outputs": [],
   "source": [
    "# Scaling Variables \n",
    "from sklearn.preprocessing import RobustScaler\n",
    "\n",
    "scaler = RobustScaler()\n",
    "X_scale = scaler.fit_transform(X)"
   ]
  },
  {
   "cell_type": "code",
   "execution_count": 17,
   "metadata": {},
   "outputs": [],
   "source": [
    "# RANDOM FOREST\n",
    "from sklearn.ensemble import RandomForestRegressor\n",
    "from sklearn.model_selection import GridSearchCV\n",
    "from sklearn.model_selection import ShuffleSplit\n",
    "\n",
    "# Crear el grid con los parámetros a optimizar\n",
    "param_grid = {'bootstrap': [True, False],\n",
    "              'max_depth': [10, 20, 50, 100],\n",
    "              'n_estimators': [100, 500]}\n",
    "\n",
    "cv = ShuffleSplit(n_splits=1, test_size=0.20, random_state=0)\n",
    "\n",
    "rfr = GridSearchCV(RandomForestRegressor(),\n",
    "                   param_grid=param_grid,\n",
    "                   scoring=\"neg_mean_squared_error\",\n",
    "                   n_jobs=1, \n",
    "                   pre_dispatch='2*n_jobs',\n",
    "                   cv=cv)"
   ]
  },
  {
   "cell_type": "code",
   "execution_count": 18,
   "metadata": {},
   "outputs": [],
   "source": [
    "# Entreno el modelo para obtener los mejores parámetros\n",
    "#rfr.fit(X_scale, y)\n",
    "\n",
    "# Visualizo mejores parámetros\n",
    "#print(rfr.best_score_)\n",
    "#print(rfr.best_params_) "
   ]
  },
  {
   "cell_type": "code",
   "execution_count": 19,
   "metadata": {
    "scrolled": true
   },
   "outputs": [
    {
     "data": {
      "text/plain": [
       "RandomForestRegressor(bootstrap=False, criterion='mse', max_depth=20,\n",
       "           max_features='auto', max_leaf_nodes=None,\n",
       "           min_impurity_decrease=0.0, min_impurity_split=None,\n",
       "           min_samples_leaf=1, min_samples_split=2,\n",
       "           min_weight_fraction_leaf=0.0, n_estimators=100, n_jobs=None,\n",
       "           oob_score=False, random_state=None, verbose=0, warm_start=False)"
      ]
     },
     "execution_count": 19,
     "metadata": {},
     "output_type": "execute_result"
    }
   ],
   "source": [
    "# Instanciamos al modelo con los parámetros óptimos\n",
    "rfr = RandomForestRegressor(n_estimators=100,\n",
    "                            max_depth=20,\n",
    "                            max_features='auto',\n",
    "                            min_samples_split=2,\n",
    "                            min_samples_leaf=1, \n",
    "                            bootstrap=False)\n",
    "\n",
    "# Entreno el modelo para obtener las columnas más importantes para el modelo\n",
    "rfr.fit(X_scale, y)"
   ]
  },
  {
   "cell_type": "code",
   "execution_count": 20,
   "metadata": {},
   "outputs": [
    {
     "data": {
      "text/plain": [
       "[<matplotlib.lines.Line2D at 0x11771db70>]"
      ]
     },
     "execution_count": 20,
     "metadata": {},
     "output_type": "execute_result"
    },
    {
     "data": {
      "image/png": "[encoded data removed]",
      "text/plain": [
       "<Figure size 432x288 with 1 Axes>"
      ]
     },
     "metadata": {
      "needs_background": "light"
     },
     "output_type": "display_data"
    }
   ],
   "source": [
    "# Gráfica de la importancia de cada columna\n",
    "plt.plot(rfr.feature_importances_)"
   ]
  },
  {
   "cell_type": "code",
   "execution_count": 21,
   "metadata": {},
   "outputs": [],
   "source": [
    "# Me quedo con las 40 columnas más importantes en el modelo\n",
    "import pandas as pd\n",
    "\n",
    "feature_importances = pd.DataFrame(rfr.feature_importances_,\n",
    "                                   index = cols_predictors,\n",
    "                                   columns=['importance'])\n",
    "\n",
    "cols_importances = feature_importances.sort_values('importance', ascending=False)[0: 40].index"
   ]
  },
  {
   "cell_type": "code",
   "execution_count": 22,
   "metadata": {},
   "outputs": [
    {
     "data": {
      "text/plain": [
       "Index(['O3_1', 'NO2_1', 'PM10_1', 'carga_16', 'O3_3', 'carga_3', 'PM10_7',\n",
       "       'NO2_2', 'O3_22', 'ocupacion_3', 'PM10_2', 'ocupacion_15',\n",
       "       'intensidad_25', 'NO2_23', 'carga_17', 'ocupacion_4', 'O3_2', 'SO2_1',\n",
       "       'carga_0', 'O3_12', 'PM10_4', 'PM10_3', 'intensidad_0', 'ocupacion_10',\n",
       "       'ocupacion_16', 'NO2_3', 'carga_39', 'intensidad_143', 'O3_23',\n",
       "       'ocupacion_63', 'ocupacion_0', 'carga_181', 'PM10_28', 'ocupacion_161',\n",
       "       'ocupacion_18', 'O3_4', 'intensidad_166', 'NO2_47', 'carga_62',\n",
       "       'PM10_375'],\n",
       "      dtype='object')"
      ]
     },
     "execution_count": 22,
     "metadata": {},
     "output_type": "execute_result"
    }
   ],
   "source": [
    "cols_importances"
   ]
  },
  {
   "cell_type": "code",
   "execution_count": 23,
   "metadata": {},
   "outputs": [],
   "source": [
    "# Construyo de nuevo el conjunto de datos de train y test con las columnas con mayor importancia,\n",
    "# y vuelvo a normalizar datos de train con RobustScaler\n",
    "X = df_train[cols_importances]\n",
    "X_test = df_test[cols_importances]\n",
    "scaler = RobustScaler()\n",
    "X_scale = scaler.fit_transform(X)"
   ]
  },
  {
   "cell_type": "code",
   "execution_count": 24,
   "metadata": {},
   "outputs": [
    {
     "data": {
      "text/plain": [
       "RandomForestRegressor(bootstrap=False, criterion='mse', max_depth=20,\n",
       "           max_features='auto', max_leaf_nodes=None,\n",
       "           min_impurity_decrease=0.0, min_impurity_split=None,\n",
       "           min_samples_leaf=1, min_samples_split=2,\n",
       "           min_weight_fraction_leaf=0.0, n_estimators=100, n_jobs=None,\n",
       "           oob_score=False, random_state=None, verbose=0, warm_start=False)"
      ]
     },
     "execution_count": 24,
     "metadata": {},
     "output_type": "execute_result"
    }
   ],
   "source": [
    "# Entreno el modelo para predecir\n",
    "rfr.fit(X_scale, y)"
   ]
  },
  {
   "cell_type": "code",
   "execution_count": 25,
   "metadata": {},
   "outputs": [
    {
     "data": {
      "text/html": [
       "<div>\n",
       "<style scoped>\n",
       "    .dataframe tbody tr th:only-of-type {\n",
       "        vertical-align: middle;\n",
       "    }\n",
       "\n",
       "    .dataframe tbody tr th {\n",
       "        vertical-align: top;\n",
       "    }\n",
       "\n",
       "    .dataframe thead th {\n",
       "        text-align: right;\n",
       "    }\n",
       "</style>\n",
       "<table border=\"1\" class=\"dataframe\">\n",
       "  <thead>\n",
       "    <tr style=\"text-align: right;\">\n",
       "      <th></th>\n",
       "      <th>SO2_0</th>\n",
       "      <th>CO_0</th>\n",
       "      <th>NO2_0</th>\n",
       "      <th>PM10_0</th>\n",
       "      <th>O3_0</th>\n",
       "    </tr>\n",
       "  </thead>\n",
       "  <tbody>\n",
       "    <tr>\n",
       "      <th>35397</th>\n",
       "      <td>7.0</td>\n",
       "      <td>0.3</td>\n",
       "      <td>25.0</td>\n",
       "      <td>6.0</td>\n",
       "      <td>74.25</td>\n",
       "    </tr>\n",
       "    <tr>\n",
       "      <th>35398</th>\n",
       "      <td>6.0</td>\n",
       "      <td>0.3</td>\n",
       "      <td>30.0</td>\n",
       "      <td>10.0</td>\n",
       "      <td>70.40</td>\n",
       "    </tr>\n",
       "    <tr>\n",
       "      <th>35399</th>\n",
       "      <td>6.0</td>\n",
       "      <td>0.3</td>\n",
       "      <td>31.0</td>\n",
       "      <td>5.0</td>\n",
       "      <td>67.45</td>\n",
       "    </tr>\n",
       "    <tr>\n",
       "      <th>35400</th>\n",
       "      <td>6.0</td>\n",
       "      <td>0.3</td>\n",
       "      <td>31.0</td>\n",
       "      <td>11.0</td>\n",
       "      <td>67.62</td>\n",
       "    </tr>\n",
       "    <tr>\n",
       "      <th>35401</th>\n",
       "      <td>6.0</td>\n",
       "      <td>0.3</td>\n",
       "      <td>33.0</td>\n",
       "      <td>12.0</td>\n",
       "      <td>66.06</td>\n",
       "    </tr>\n",
       "  </tbody>\n",
       "</table>\n",
       "</div>"
      ],
      "text/plain": [
       "       SO2_0  CO_0  NO2_0  PM10_0   O3_0\n",
       "35397    7.0   0.3   25.0     6.0  74.25\n",
       "35398    6.0   0.3   30.0    10.0  70.40\n",
       "35399    6.0   0.3   31.0     5.0  67.45\n",
       "35400    6.0   0.3   31.0    11.0  67.62\n",
       "35401    6.0   0.3   33.0    12.0  66.06"
      ]
     },
     "execution_count": 25,
     "metadata": {},
     "output_type": "execute_result"
    }
   ],
   "source": [
    "# Con lo que voy a comparar la predicción\n",
    "y_test.head()"
   ]
  },
  {
   "cell_type": "code",
   "execution_count": 26,
   "metadata": {},
   "outputs": [
    {
     "data": {
      "text/plain": [
       "array([[  8.16 ,   0.346,  66.12 ,  44.48 , 122.75 ],\n",
       "       [  8.16 ,   0.347,  66.15 ,  44.54 , 122.85 ],\n",
       "       [  8.56 ,   0.443,  72.05 ,  52.98 , 121.54 ],\n",
       "       ...,\n",
       "       [  8.56 ,   0.443,  72.05 ,  52.98 , 121.54 ],\n",
       "       [  8.56 ,   0.443,  72.05 ,  52.98 , 121.54 ],\n",
       "       [  8.56 ,   0.443,  72.05 ,  52.98 , 121.54 ]])"
      ]
     },
     "execution_count": 26,
     "metadata": {},
     "output_type": "execute_result"
    }
   ],
   "source": [
    "# Hago prediccion sobre test\n",
    "prediction_test = rfr.predict(X_test)\n",
    "prediction_test"
   ]
  },
  {
   "cell_type": "code",
   "execution_count": 27,
   "metadata": {},
   "outputs": [],
   "source": [
    "#Convierto prediction a dataframe\n",
    "cols = cols_predictibles\n",
    "pred_test = pd.DataFrame(index=range(0,len(prediction_test)),columns=[cols])\n",
    "\n",
    "for j in range(0,5):\n",
    "    for i in range(0, len(prediction_test)):\n",
    "       pred_test.iloc[i][j] = prediction_test[i][j]"
   ]
  },
  {
   "cell_type": "code",
   "execution_count": 28,
   "metadata": {},
   "outputs": [
    {
     "name": "stdout",
     "output_type": "stream",
     "text": [
      "RMSE values\n",
      "SO2_0 : 4.137435612035518\n",
      "CO_0 : 0.24259836294490342\n",
      "NO2_0 : 34.71339886683454\n",
      "PM10_0 : 34.18085476978372\n",
      "O3_0 : 78.4589061090397\n",
      "El error medio es:  15.69178122180794\n"
     ]
    }
   ],
   "source": [
    "# Calculo el RMSE\n",
    "from math import sqrt\n",
    "from sklearn.metrics import mean_squared_error\n",
    "\n",
    "print('RMSE values')\n",
    "media=0\n",
    "for i in cols:\n",
    "    print(i, ':', sqrt(mean_squared_error(pred_test[i], y_test[i])))\n",
    "    media =+ sqrt(mean_squared_error(pred_test[i], y_test[i]))\n",
    "    \n",
    "media = media/5\n",
    "print(\"El error medio es: \", media)"
   ]
  },
  {
   "cell_type": "code",
   "execution_count": 29,
   "metadata": {
    "scrolled": true
   },
   "outputs": [
    {
     "data": {
      "image/png": "[encoded data removed]",
      "text/plain": [
       "<Figure size 432x288 with 5 Axes>"
      ]
     },
     "metadata": {
      "needs_background": "light"
     },
     "output_type": "display_data"
    }
   ],
   "source": [
    "# Plot comparativo entre los datos de test y las prediccciones del modelo\n",
    "for i in range(0, len(cols_predictibles)):\n",
    "    plt.subplot(len(cols_predictibles), 1, i+1)\n",
    "    plt.plot(y_test.values[i][-24:])\n",
    "    plt.plot(pred_test.values[i][-24:],color=\"red\")"
   ]
  },
  {
   "cell_type": "code",
   "execution_count": 39,
   "metadata": {},
   "outputs": [
    {
     "data": {
      "text/plain": [
       "array([[  8.56 ,   0.443,  72.05 ,  52.98 , 121.54 ],\n",
       "       [  8.56 ,   0.443,  72.05 ,  52.98 , 121.54 ],\n",
       "       [  8.56 ,   0.443,  72.05 ,  52.98 , 121.54 ],\n",
       "       ...,\n",
       "       [  8.56 ,   0.443,  72.05 ,  52.98 , 121.54 ],\n",
       "       [  8.56 ,   0.443,  72.05 ,  52.98 , 121.54 ],\n",
       "       [  8.56 ,   0.443,  72.05 ,  52.98 , 121.54 ]])"
      ]
     },
     "execution_count": 39,
     "metadata": {},
     "output_type": "execute_result"
    }
   ],
   "source": [
    "# Predecir próximos valores\n",
    "horas_a_predecir = 24*15\n",
    "prediction = rfr.predict(df_lags[cols_importances][-horas_a_predecir:])\n",
    "prediction"
   ]
  },
  {
   "cell_type": "code",
   "execution_count": 40,
   "metadata": {},
   "outputs": [],
   "source": [
    "#Convierto prediccion a dataframe\n",
    "cols = cols_predictibles\n",
    "pred = pd.DataFrame(index=range(0,len(prediction)),columns=[cols])\n",
    "\n",
    "for j in range(0,5):\n",
    "    for i in range(0, len(prediction)):\n",
    "       pred.iloc[i][j] = prediction[i][j]"
   ]
  },
  {
   "cell_type": "code",
   "execution_count": 41,
   "metadata": {},
   "outputs": [],
   "source": [
    "# Gráficas de datos actuales y predicción\n",
    "datos_actuales = df[['SO2', 'CO', 'NO2', 'PM10', 'O3']]\n",
    "datos_actuales.index = df['FECHA']\n",
    "#datos_actuales.drop(['FECHA'], axis=1, inplace=True)"
   ]
  },
  {
   "cell_type": "code",
   "execution_count": 42,
   "metadata": {},
   "outputs": [
    {
     "data": {
      "text/html": [
       "<div>\n",
       "<style scoped>\n",
       "    .dataframe tbody tr th:only-of-type {\n",
       "        vertical-align: middle;\n",
       "    }\n",
       "\n",
       "    .dataframe tbody tr th {\n",
       "        vertical-align: top;\n",
       "    }\n",
       "\n",
       "    .dataframe thead th {\n",
       "        text-align: right;\n",
       "    }\n",
       "</style>\n",
       "<table border=\"1\" class=\"dataframe\">\n",
       "  <thead>\n",
       "    <tr style=\"text-align: right;\">\n",
       "      <th></th>\n",
       "      <th>SO2</th>\n",
       "      <th>CO</th>\n",
       "      <th>NO2</th>\n",
       "      <th>PM10</th>\n",
       "      <th>O3</th>\n",
       "    </tr>\n",
       "  </thead>\n",
       "  <tbody>\n",
       "    <tr>\n",
       "      <th>2019-04-01 00:00:00</th>\n",
       "      <td>8.56</td>\n",
       "      <td>0.443</td>\n",
       "      <td>72.05</td>\n",
       "      <td>52.98</td>\n",
       "      <td>121.54</td>\n",
       "    </tr>\n",
       "    <tr>\n",
       "      <th>2019-04-01 01:00:00</th>\n",
       "      <td>8.56</td>\n",
       "      <td>0.443</td>\n",
       "      <td>72.05</td>\n",
       "      <td>52.98</td>\n",
       "      <td>121.54</td>\n",
       "    </tr>\n",
       "    <tr>\n",
       "      <th>2019-04-01 02:00:00</th>\n",
       "      <td>8.56</td>\n",
       "      <td>0.443</td>\n",
       "      <td>72.05</td>\n",
       "      <td>52.98</td>\n",
       "      <td>121.54</td>\n",
       "    </tr>\n",
       "    <tr>\n",
       "      <th>2019-04-01 03:00:00</th>\n",
       "      <td>8.56</td>\n",
       "      <td>0.443</td>\n",
       "      <td>72.05</td>\n",
       "      <td>52.98</td>\n",
       "      <td>121.54</td>\n",
       "    </tr>\n",
       "    <tr>\n",
       "      <th>2019-04-01 04:00:00</th>\n",
       "      <td>8.56</td>\n",
       "      <td>0.443</td>\n",
       "      <td>72.05</td>\n",
       "      <td>52.98</td>\n",
       "      <td>121.54</td>\n",
       "    </tr>\n",
       "    <tr>\n",
       "      <th>2019-04-01 05:00:00</th>\n",
       "      <td>8.56</td>\n",
       "      <td>0.443</td>\n",
       "      <td>72.05</td>\n",
       "      <td>52.98</td>\n",
       "      <td>121.54</td>\n",
       "    </tr>\n",
       "    <tr>\n",
       "      <th>2019-04-01 06:00:00</th>\n",
       "      <td>8.56</td>\n",
       "      <td>0.443</td>\n",
       "      <td>72.05</td>\n",
       "      <td>52.98</td>\n",
       "      <td>121.54</td>\n",
       "    </tr>\n",
       "    <tr>\n",
       "      <th>2019-04-01 07:00:00</th>\n",
       "      <td>8.56</td>\n",
       "      <td>0.443</td>\n",
       "      <td>72.05</td>\n",
       "      <td>52.98</td>\n",
       "      <td>121.54</td>\n",
       "    </tr>\n",
       "    <tr>\n",
       "      <th>2019-04-01 08:00:00</th>\n",
       "      <td>8.56</td>\n",
       "      <td>0.443</td>\n",
       "      <td>72.05</td>\n",
       "      <td>52.98</td>\n",
       "      <td>121.54</td>\n",
       "    </tr>\n",
       "    <tr>\n",
       "      <th>2019-04-01 09:00:00</th>\n",
       "      <td>8.56</td>\n",
       "      <td>0.443</td>\n",
       "      <td>72.05</td>\n",
       "      <td>52.98</td>\n",
       "      <td>121.54</td>\n",
       "    </tr>\n",
       "    <tr>\n",
       "      <th>2019-04-01 10:00:00</th>\n",
       "      <td>8.56</td>\n",
       "      <td>0.443</td>\n",
       "      <td>72.05</td>\n",
       "      <td>52.98</td>\n",
       "      <td>121.54</td>\n",
       "    </tr>\n",
       "    <tr>\n",
       "      <th>2019-04-01 11:00:00</th>\n",
       "      <td>8.56</td>\n",
       "      <td>0.443</td>\n",
       "      <td>72.05</td>\n",
       "      <td>52.98</td>\n",
       "      <td>121.54</td>\n",
       "    </tr>\n",
       "    <tr>\n",
       "      <th>2019-04-01 12:00:00</th>\n",
       "      <td>8.56</td>\n",
       "      <td>0.443</td>\n",
       "      <td>72.05</td>\n",
       "      <td>52.98</td>\n",
       "      <td>121.54</td>\n",
       "    </tr>\n",
       "    <tr>\n",
       "      <th>2019-04-01 13:00:00</th>\n",
       "      <td>8.56</td>\n",
       "      <td>0.443</td>\n",
       "      <td>72.05</td>\n",
       "      <td>52.98</td>\n",
       "      <td>121.54</td>\n",
       "    </tr>\n",
       "    <tr>\n",
       "      <th>2019-04-01 14:00:00</th>\n",
       "      <td>8.56</td>\n",
       "      <td>0.443</td>\n",
       "      <td>72.05</td>\n",
       "      <td>52.98</td>\n",
       "      <td>121.54</td>\n",
       "    </tr>\n",
       "    <tr>\n",
       "      <th>2019-04-01 15:00:00</th>\n",
       "      <td>8.56</td>\n",
       "      <td>0.443</td>\n",
       "      <td>72.05</td>\n",
       "      <td>52.98</td>\n",
       "      <td>121.54</td>\n",
       "    </tr>\n",
       "    <tr>\n",
       "      <th>2019-04-01 16:00:00</th>\n",
       "      <td>8.56</td>\n",
       "      <td>0.443</td>\n",
       "      <td>72.05</td>\n",
       "      <td>52.98</td>\n",
       "      <td>121.54</td>\n",
       "    </tr>\n",
       "    <tr>\n",
       "      <th>2019-04-01 17:00:00</th>\n",
       "      <td>8.56</td>\n",
       "      <td>0.443</td>\n",
       "      <td>72.05</td>\n",
       "      <td>52.98</td>\n",
       "      <td>121.54</td>\n",
       "    </tr>\n",
       "    <tr>\n",
       "      <th>2019-04-01 18:00:00</th>\n",
       "      <td>8.56</td>\n",
       "      <td>0.443</td>\n",
       "      <td>72.05</td>\n",
       "      <td>52.98</td>\n",
       "      <td>121.54</td>\n",
       "    </tr>\n",
       "    <tr>\n",
       "      <th>2019-04-01 19:00:00</th>\n",
       "      <td>8.56</td>\n",
       "      <td>0.443</td>\n",
       "      <td>72.05</td>\n",
       "      <td>52.98</td>\n",
       "      <td>121.54</td>\n",
       "    </tr>\n",
       "    <tr>\n",
       "      <th>2019-04-01 20:00:00</th>\n",
       "      <td>8.56</td>\n",
       "      <td>0.443</td>\n",
       "      <td>72.05</td>\n",
       "      <td>52.98</td>\n",
       "      <td>121.54</td>\n",
       "    </tr>\n",
       "    <tr>\n",
       "      <th>2019-04-01 21:00:00</th>\n",
       "      <td>8.56</td>\n",
       "      <td>0.443</td>\n",
       "      <td>72.05</td>\n",
       "      <td>52.98</td>\n",
       "      <td>121.54</td>\n",
       "    </tr>\n",
       "    <tr>\n",
       "      <th>2019-04-01 22:00:00</th>\n",
       "      <td>8.56</td>\n",
       "      <td>0.443</td>\n",
       "      <td>72.05</td>\n",
       "      <td>52.98</td>\n",
       "      <td>121.54</td>\n",
       "    </tr>\n",
       "    <tr>\n",
       "      <th>2019-04-01 23:00:00</th>\n",
       "      <td>8.56</td>\n",
       "      <td>0.443</td>\n",
       "      <td>72.05</td>\n",
       "      <td>52.98</td>\n",
       "      <td>121.54</td>\n",
       "    </tr>\n",
       "    <tr>\n",
       "      <th>2019-04-02 00:00:00</th>\n",
       "      <td>8.56</td>\n",
       "      <td>0.443</td>\n",
       "      <td>72.05</td>\n",
       "      <td>52.98</td>\n",
       "      <td>121.54</td>\n",
       "    </tr>\n",
       "    <tr>\n",
       "      <th>2019-04-02 01:00:00</th>\n",
       "      <td>8.56</td>\n",
       "      <td>0.443</td>\n",
       "      <td>72.05</td>\n",
       "      <td>52.98</td>\n",
       "      <td>121.54</td>\n",
       "    </tr>\n",
       "    <tr>\n",
       "      <th>2019-04-02 02:00:00</th>\n",
       "      <td>8.56</td>\n",
       "      <td>0.443</td>\n",
       "      <td>72.05</td>\n",
       "      <td>52.98</td>\n",
       "      <td>121.54</td>\n",
       "    </tr>\n",
       "    <tr>\n",
       "      <th>2019-04-02 03:00:00</th>\n",
       "      <td>8.56</td>\n",
       "      <td>0.443</td>\n",
       "      <td>72.05</td>\n",
       "      <td>52.98</td>\n",
       "      <td>121.54</td>\n",
       "    </tr>\n",
       "    <tr>\n",
       "      <th>2019-04-02 04:00:00</th>\n",
       "      <td>8.56</td>\n",
       "      <td>0.443</td>\n",
       "      <td>72.05</td>\n",
       "      <td>52.98</td>\n",
       "      <td>121.54</td>\n",
       "    </tr>\n",
       "    <tr>\n",
       "      <th>2019-04-02 05:00:00</th>\n",
       "      <td>8.56</td>\n",
       "      <td>0.443</td>\n",
       "      <td>72.05</td>\n",
       "      <td>52.98</td>\n",
       "      <td>121.54</td>\n",
       "    </tr>\n",
       "    <tr>\n",
       "      <th>...</th>\n",
       "      <td>...</td>\n",
       "      <td>...</td>\n",
       "      <td>...</td>\n",
       "      <td>...</td>\n",
       "      <td>...</td>\n",
       "    </tr>\n",
       "    <tr>\n",
       "      <th>2019-04-14 18:00:00</th>\n",
       "      <td>8.56</td>\n",
       "      <td>0.443</td>\n",
       "      <td>72.05</td>\n",
       "      <td>52.98</td>\n",
       "      <td>121.54</td>\n",
       "    </tr>\n",
       "    <tr>\n",
       "      <th>2019-04-14 19:00:00</th>\n",
       "      <td>8.56</td>\n",
       "      <td>0.443</td>\n",
       "      <td>72.05</td>\n",
       "      <td>52.98</td>\n",
       "      <td>121.54</td>\n",
       "    </tr>\n",
       "    <tr>\n",
       "      <th>2019-04-14 20:00:00</th>\n",
       "      <td>8.56</td>\n",
       "      <td>0.443</td>\n",
       "      <td>72.05</td>\n",
       "      <td>52.98</td>\n",
       "      <td>121.54</td>\n",
       "    </tr>\n",
       "    <tr>\n",
       "      <th>2019-04-14 21:00:00</th>\n",
       "      <td>8.56</td>\n",
       "      <td>0.443</td>\n",
       "      <td>72.05</td>\n",
       "      <td>52.98</td>\n",
       "      <td>121.54</td>\n",
       "    </tr>\n",
       "    <tr>\n",
       "      <th>2019-04-14 22:00:00</th>\n",
       "      <td>8.56</td>\n",
       "      <td>0.443</td>\n",
       "      <td>72.05</td>\n",
       "      <td>52.98</td>\n",
       "      <td>121.54</td>\n",
       "    </tr>\n",
       "    <tr>\n",
       "      <th>2019-04-14 23:00:00</th>\n",
       "      <td>8.56</td>\n",
       "      <td>0.443</td>\n",
       "      <td>72.05</td>\n",
       "      <td>52.98</td>\n",
       "      <td>121.54</td>\n",
       "    </tr>\n",
       "    <tr>\n",
       "      <th>2019-04-15 00:00:00</th>\n",
       "      <td>8.56</td>\n",
       "      <td>0.443</td>\n",
       "      <td>72.05</td>\n",
       "      <td>52.98</td>\n",
       "      <td>121.54</td>\n",
       "    </tr>\n",
       "    <tr>\n",
       "      <th>2019-04-15 01:00:00</th>\n",
       "      <td>8.56</td>\n",
       "      <td>0.443</td>\n",
       "      <td>72.05</td>\n",
       "      <td>52.98</td>\n",
       "      <td>121.54</td>\n",
       "    </tr>\n",
       "    <tr>\n",
       "      <th>2019-04-15 02:00:00</th>\n",
       "      <td>8.56</td>\n",
       "      <td>0.443</td>\n",
       "      <td>72.05</td>\n",
       "      <td>52.98</td>\n",
       "      <td>121.54</td>\n",
       "    </tr>\n",
       "    <tr>\n",
       "      <th>2019-04-15 03:00:00</th>\n",
       "      <td>8.56</td>\n",
       "      <td>0.443</td>\n",
       "      <td>72.05</td>\n",
       "      <td>52.98</td>\n",
       "      <td>121.54</td>\n",
       "    </tr>\n",
       "    <tr>\n",
       "      <th>2019-04-15 04:00:00</th>\n",
       "      <td>8.56</td>\n",
       "      <td>0.443</td>\n",
       "      <td>72.05</td>\n",
       "      <td>52.98</td>\n",
       "      <td>121.54</td>\n",
       "    </tr>\n",
       "    <tr>\n",
       "      <th>2019-04-15 05:00:00</th>\n",
       "      <td>8.56</td>\n",
       "      <td>0.443</td>\n",
       "      <td>72.05</td>\n",
       "      <td>52.98</td>\n",
       "      <td>121.54</td>\n",
       "    </tr>\n",
       "    <tr>\n",
       "      <th>2019-04-15 06:00:00</th>\n",
       "      <td>8.56</td>\n",
       "      <td>0.443</td>\n",
       "      <td>72.05</td>\n",
       "      <td>52.98</td>\n",
       "      <td>121.54</td>\n",
       "    </tr>\n",
       "    <tr>\n",
       "      <th>2019-04-15 07:00:00</th>\n",
       "      <td>8.56</td>\n",
       "      <td>0.443</td>\n",
       "      <td>72.05</td>\n",
       "      <td>52.98</td>\n",
       "      <td>121.54</td>\n",
       "    </tr>\n",
       "    <tr>\n",
       "      <th>2019-04-15 08:00:00</th>\n",
       "      <td>8.56</td>\n",
       "      <td>0.443</td>\n",
       "      <td>72.05</td>\n",
       "      <td>52.98</td>\n",
       "      <td>121.54</td>\n",
       "    </tr>\n",
       "    <tr>\n",
       "      <th>2019-04-15 09:00:00</th>\n",
       "      <td>8.56</td>\n",
       "      <td>0.443</td>\n",
       "      <td>72.05</td>\n",
       "      <td>52.98</td>\n",
       "      <td>121.54</td>\n",
       "    </tr>\n",
       "    <tr>\n",
       "      <th>2019-04-15 10:00:00</th>\n",
       "      <td>8.56</td>\n",
       "      <td>0.443</td>\n",
       "      <td>72.05</td>\n",
       "      <td>52.98</td>\n",
       "      <td>121.54</td>\n",
       "    </tr>\n",
       "    <tr>\n",
       "      <th>2019-04-15 11:00:00</th>\n",
       "      <td>8.56</td>\n",
       "      <td>0.443</td>\n",
       "      <td>72.05</td>\n",
       "      <td>52.98</td>\n",
       "      <td>121.54</td>\n",
       "    </tr>\n",
       "    <tr>\n",
       "      <th>2019-04-15 12:00:00</th>\n",
       "      <td>8.56</td>\n",
       "      <td>0.443</td>\n",
       "      <td>72.05</td>\n",
       "      <td>52.98</td>\n",
       "      <td>121.54</td>\n",
       "    </tr>\n",
       "    <tr>\n",
       "      <th>2019-04-15 13:00:00</th>\n",
       "      <td>8.56</td>\n",
       "      <td>0.443</td>\n",
       "      <td>72.05</td>\n",
       "      <td>52.98</td>\n",
       "      <td>121.54</td>\n",
       "    </tr>\n",
       "    <tr>\n",
       "      <th>2019-04-15 14:00:00</th>\n",
       "      <td>8.56</td>\n",
       "      <td>0.443</td>\n",
       "      <td>72.05</td>\n",
       "      <td>52.98</td>\n",
       "      <td>121.54</td>\n",
       "    </tr>\n",
       "    <tr>\n",
       "      <th>2019-04-15 15:00:00</th>\n",
       "      <td>8.56</td>\n",
       "      <td>0.443</td>\n",
       "      <td>72.05</td>\n",
       "      <td>52.98</td>\n",
       "      <td>121.54</td>\n",
       "    </tr>\n",
       "    <tr>\n",
       "      <th>2019-04-15 16:00:00</th>\n",
       "      <td>8.56</td>\n",
       "      <td>0.443</td>\n",
       "      <td>72.05</td>\n",
       "      <td>52.98</td>\n",
       "      <td>121.54</td>\n",
       "    </tr>\n",
       "    <tr>\n",
       "      <th>2019-04-15 17:00:00</th>\n",
       "      <td>8.56</td>\n",
       "      <td>0.443</td>\n",
       "      <td>72.05</td>\n",
       "      <td>52.98</td>\n",
       "      <td>121.54</td>\n",
       "    </tr>\n",
       "    <tr>\n",
       "      <th>2019-04-15 18:00:00</th>\n",
       "      <td>8.56</td>\n",
       "      <td>0.443</td>\n",
       "      <td>72.05</td>\n",
       "      <td>52.98</td>\n",
       "      <td>121.54</td>\n",
       "    </tr>\n",
       "    <tr>\n",
       "      <th>2019-04-15 19:00:00</th>\n",
       "      <td>8.56</td>\n",
       "      <td>0.443</td>\n",
       "      <td>72.05</td>\n",
       "      <td>52.98</td>\n",
       "      <td>121.54</td>\n",
       "    </tr>\n",
       "    <tr>\n",
       "      <th>2019-04-15 20:00:00</th>\n",
       "      <td>8.56</td>\n",
       "      <td>0.443</td>\n",
       "      <td>72.05</td>\n",
       "      <td>52.98</td>\n",
       "      <td>121.54</td>\n",
       "    </tr>\n",
       "    <tr>\n",
       "      <th>2019-04-15 21:00:00</th>\n",
       "      <td>8.56</td>\n",
       "      <td>0.443</td>\n",
       "      <td>72.05</td>\n",
       "      <td>52.98</td>\n",
       "      <td>121.54</td>\n",
       "    </tr>\n",
       "    <tr>\n",
       "      <th>2019-04-15 22:00:00</th>\n",
       "      <td>8.56</td>\n",
       "      <td>0.443</td>\n",
       "      <td>72.05</td>\n",
       "      <td>52.98</td>\n",
       "      <td>121.54</td>\n",
       "    </tr>\n",
       "    <tr>\n",
       "      <th>2019-04-15 23:00:00</th>\n",
       "      <td>8.56</td>\n",
       "      <td>0.443</td>\n",
       "      <td>72.05</td>\n",
       "      <td>52.98</td>\n",
       "      <td>121.54</td>\n",
       "    </tr>\n",
       "  </tbody>\n",
       "</table>\n",
       "<p>360 rows × 5 columns</p>\n",
       "</div>"
      ],
      "text/plain": [
       "                      SO2     CO    NO2   PM10      O3\n",
       "2019-04-01 00:00:00  8.56  0.443  72.05  52.98  121.54\n",
       "2019-04-01 01:00:00  8.56  0.443  72.05  52.98  121.54\n",
       "2019-04-01 02:00:00  8.56  0.443  72.05  52.98  121.54\n",
       "2019-04-01 03:00:00  8.56  0.443  72.05  52.98  121.54\n",
       "2019-04-01 04:00:00  8.56  0.443  72.05  52.98  121.54\n",
       "2019-04-01 05:00:00  8.56  0.443  72.05  52.98  121.54\n",
       "2019-04-01 06:00:00  8.56  0.443  72.05  52.98  121.54\n",
       "2019-04-01 07:00:00  8.56  0.443  72.05  52.98  121.54\n",
       "2019-04-01 08:00:00  8.56  0.443  72.05  52.98  121.54\n",
       "2019-04-01 09:00:00  8.56  0.443  72.05  52.98  121.54\n",
       "2019-04-01 10:00:00  8.56  0.443  72.05  52.98  121.54\n",
       "2019-04-01 11:00:00  8.56  0.443  72.05  52.98  121.54\n",
       "2019-04-01 12:00:00  8.56  0.443  72.05  52.98  121.54\n",
       "2019-04-01 13:00:00  8.56  0.443  72.05  52.98  121.54\n",
       "2019-04-01 14:00:00  8.56  0.443  72.05  52.98  121.54\n",
       "2019-04-01 15:00:00  8.56  0.443  72.05  52.98  121.54\n",
       "2019-04-01 16:00:00  8.56  0.443  72.05  52.98  121.54\n",
       "2019-04-01 17:00:00  8.56  0.443  72.05  52.98  121.54\n",
       "2019-04-01 18:00:00  8.56  0.443  72.05  52.98  121.54\n",
       "2019-04-01 19:00:00  8.56  0.443  72.05  52.98  121.54\n",
       "2019-04-01 20:00:00  8.56  0.443  72.05  52.98  121.54\n",
       "2019-04-01 21:00:00  8.56  0.443  72.05  52.98  121.54\n",
       "2019-04-01 22:00:00  8.56  0.443  72.05  52.98  121.54\n",
       "2019-04-01 23:00:00  8.56  0.443  72.05  52.98  121.54\n",
       "2019-04-02 00:00:00  8.56  0.443  72.05  52.98  121.54\n",
       "2019-04-02 01:00:00  8.56  0.443  72.05  52.98  121.54\n",
       "2019-04-02 02:00:00  8.56  0.443  72.05  52.98  121.54\n",
       "2019-04-02 03:00:00  8.56  0.443  72.05  52.98  121.54\n",
       "2019-04-02 04:00:00  8.56  0.443  72.05  52.98  121.54\n",
       "2019-04-02 05:00:00  8.56  0.443  72.05  52.98  121.54\n",
       "...                   ...    ...    ...    ...     ...\n",
       "2019-04-14 18:00:00  8.56  0.443  72.05  52.98  121.54\n",
       "2019-04-14 19:00:00  8.56  0.443  72.05  52.98  121.54\n",
       "2019-04-14 20:00:00  8.56  0.443  72.05  52.98  121.54\n",
       "2019-04-14 21:00:00  8.56  0.443  72.05  52.98  121.54\n",
       "2019-04-14 22:00:00  8.56  0.443  72.05  52.98  121.54\n",
       "2019-04-14 23:00:00  8.56  0.443  72.05  52.98  121.54\n",
       "2019-04-15 00:00:00  8.56  0.443  72.05  52.98  121.54\n",
       "2019-04-15 01:00:00  8.56  0.443  72.05  52.98  121.54\n",
       "2019-04-15 02:00:00  8.56  0.443  72.05  52.98  121.54\n",
       "2019-04-15 03:00:00  8.56  0.443  72.05  52.98  121.54\n",
       "2019-04-15 04:00:00  8.56  0.443  72.05  52.98  121.54\n",
       "2019-04-15 05:00:00  8.56  0.443  72.05  52.98  121.54\n",
       "2019-04-15 06:00:00  8.56  0.443  72.05  52.98  121.54\n",
       "2019-04-15 07:00:00  8.56  0.443  72.05  52.98  121.54\n",
       "2019-04-15 08:00:00  8.56  0.443  72.05  52.98  121.54\n",
       "2019-04-15 09:00:00  8.56  0.443  72.05  52.98  121.54\n",
       "2019-04-15 10:00:00  8.56  0.443  72.05  52.98  121.54\n",
       "2019-04-15 11:00:00  8.56  0.443  72.05  52.98  121.54\n",
       "2019-04-15 12:00:00  8.56  0.443  72.05  52.98  121.54\n",
       "2019-04-15 13:00:00  8.56  0.443  72.05  52.98  121.54\n",
       "2019-04-15 14:00:00  8.56  0.443  72.05  52.98  121.54\n",
       "2019-04-15 15:00:00  8.56  0.443  72.05  52.98  121.54\n",
       "2019-04-15 16:00:00  8.56  0.443  72.05  52.98  121.54\n",
       "2019-04-15 17:00:00  8.56  0.443  72.05  52.98  121.54\n",
       "2019-04-15 18:00:00  8.56  0.443  72.05  52.98  121.54\n",
       "2019-04-15 19:00:00  8.56  0.443  72.05  52.98  121.54\n",
       "2019-04-15 20:00:00  8.56  0.443  72.05  52.98  121.54\n",
       "2019-04-15 21:00:00  8.56  0.443  72.05  52.98  121.54\n",
       "2019-04-15 22:00:00  8.56  0.443  72.05  52.98  121.54\n",
       "2019-04-15 23:00:00  8.56  0.443  72.05  52.98  121.54\n",
       "\n",
       "[360 rows x 5 columns]"
      ]
     },
     "execution_count": 42,
     "metadata": {},
     "output_type": "execute_result"
    }
   ],
   "source": [
    "datos_prediccion = pred\n",
    "\n",
    "# Generando fechas para la predicción y asignándola de índice en el dataframe\n",
    "import datetime\n",
    "datelist = pd.date_range(max(datos_actuales.index) + datetime.timedelta(hours=1), \n",
    "                         freq='H', periods=len(pred))\n",
    "\n",
    "datos_prediccion.index = datelist\n",
    "datos_prediccion.columns = datos_actuales.columns\n",
    "\n",
    "datos_prediccion"
   ]
  },
  {
   "cell_type": "code",
   "execution_count": 43,
   "metadata": {},
   "outputs": [
    {
     "data": {
      "text/plain": [
       "<matplotlib.legend.Legend at 0x119415828>"
      ]
     },
     "execution_count": 43,
     "metadata": {},
     "output_type": "execute_result"
    },
    {
     "data": {
      "image/png": "[encoded data removed]",
      "text/plain": [
       "<Figure size 432x288 with 1 Axes>"
      ]
     },
     "metadata": {
      "needs_background": "light"
     },
     "output_type": "display_data"
    }
   ],
   "source": [
    "# Sacando gráfica de cada sustancia contaminante con su predicción:\n",
    "\n",
    "# SO2\n",
    "\n",
    "df_all = pd.merge(pd.DataFrame(datos_actuales['SO2'][-horas_a_predecir:]), \n",
    "                  pd.DataFrame(datos_prediccion['SO2']), \n",
    "                  how = 'outer', left_index=True, right_index=True)\n",
    "plt.plot(df_all)\n",
    "plt.legend(('SO2', 'SO2-predict'))"
   ]
  },
  {
   "cell_type": "code",
   "execution_count": 44,
   "metadata": {},
   "outputs": [
    {
     "data": {
      "text/plain": [
       "<matplotlib.legend.Legend at 0x1193e6860>"
      ]
     },
     "execution_count": 44,
     "metadata": {},
     "output_type": "execute_result"
    },
    {
     "data": {
      "image/png": "[encoded data removed]",
      "text/plain": [
       "<Figure size 432x288 with 1 Axes>"
      ]
     },
     "metadata": {
      "needs_background": "light"
     },
     "output_type": "display_data"
    }
   ],
   "source": [
    "# CO\n",
    "\n",
    "df_all = pd.merge(pd.DataFrame(datos_actuales['CO'][-horas_a_predecir:]), \n",
    "                  pd.DataFrame(datos_prediccion['CO']), \n",
    "                  how = 'outer', left_index=True, right_index=True)\n",
    "plt.plot(df_all)\n",
    "plt.legend(('CO', 'CO-predict'))"
   ]
  },
  {
   "cell_type": "code",
   "execution_count": 45,
   "metadata": {},
   "outputs": [
    {
     "data": {
      "text/plain": [
       "<matplotlib.legend.Legend at 0x119368710>"
      ]
     },
     "execution_count": 45,
     "metadata": {},
     "output_type": "execute_result"
    },
    {
     "data": {
      "image/png": "[encoded data removed]",
      "text/plain": [
       "<Figure size 432x288 with 1 Axes>"
      ]
     },
     "metadata": {
      "needs_background": "light"
     },
     "output_type": "display_data"
    }
   ],
   "source": [
    "# NO2\n",
    "\n",
    "df_all = pd.merge(pd.DataFrame(datos_actuales['NO2'][-horas_a_predecir:]), \n",
    "                  pd.DataFrame(datos_prediccion['NO2']), \n",
    "                  how = 'outer', left_index=True, right_index=True)\n",
    "plt.plot(df_all)\n",
    "plt.legend(('NO2', 'NO2-predict'))"
   ]
  },
  {
   "cell_type": "code",
   "execution_count": 46,
   "metadata": {},
   "outputs": [
    {
     "data": {
      "text/plain": [
       "<matplotlib.legend.Legend at 0x119383be0>"
      ]
     },
     "execution_count": 46,
     "metadata": {},
     "output_type": "execute_result"
    },
    {
     "data": {
      "image/png": "[encoded data removed]",
      "text/plain": [
       "<Figure size 432x288 with 1 Axes>"
      ]
     },
     "metadata": {
      "needs_background": "light"
     },
     "output_type": "display_data"
    }
   ],
   "source": [
    "# PM10\n",
    "\n",
    "df_all = pd.merge(pd.DataFrame(datos_actuales['PM10'][-horas_a_predecir:]), \n",
    "                  pd.DataFrame(datos_prediccion['PM10']), \n",
    "                  how = 'outer', left_index=True, right_index=True)\n",
    "plt.plot(df_all)\n",
    "plt.legend(('PM10', 'PM10-predict'))"
   ]
  },
  {
   "cell_type": "code",
   "execution_count": 47,
   "metadata": {},
   "outputs": [
    {
     "data": {
      "text/plain": [
       "<matplotlib.legend.Legend at 0x1809d84a8>"
      ]
     },
     "execution_count": 47,
     "metadata": {},
     "output_type": "execute_result"
    },
    {
     "data": {
      "image/png": "[encoded data removed]",
      "text/plain": [
       "<Figure size 432x288 with 1 Axes>"
      ]
     },
     "metadata": {
      "needs_background": "light"
     },
     "output_type": "display_data"
    }
   ],
   "source": [
    "# O3\n",
    "\n",
    "df_all = pd.merge(pd.DataFrame(datos_actuales['O3'][-horas_a_predecir:]), \n",
    "                  pd.DataFrame(datos_prediccion['O3']), \n",
    "                  how = 'outer', left_index=True, right_index=True)\n",
    "plt.plot(df_all)\n",
    "plt.legend(('O3', 'O3-predict'))"
   ]
  }
 ],
 "metadata": {
  "kernelspec": {
   "display_name": "Python 3",
   "language": "python",
   "name": "python3"
  },
  "language_info": {
   "codemirror_mode": {
    "name": "ipython",
    "version": 3
   },
   "file_extension": ".py",
   "mimetype": "text/x-python",
   "name": "python",
   "nbconvert_exporter": "python",
   "pygments_lexer": "ipython3",
   "version": "3.7.1"
  }
 },
 "nbformat": 4,
 "nbformat_minor": 2
}
