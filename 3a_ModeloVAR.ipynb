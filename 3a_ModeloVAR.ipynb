{
 "cells": [
  {
   "cell_type": "markdown",
   "metadata": {},
   "source": [
    "# Modelo VAR"
   ]
  },
  {
   "cell_type": "code",
   "execution_count": 1,
   "metadata": {},
   "outputs": [],
   "source": [
    "import pandas as pd\n",
    "import matplotlib.pyplot as plt\n",
    "%matplotlib inline"
   ]
  },
  {
   "cell_type": "code",
   "execution_count": 2,
   "metadata": {},
   "outputs": [],
   "source": [
    "df = pd.read_csv(\"./data/CalidadAire.csv\")"
   ]
  },
  {
   "cell_type": "code",
   "execution_count": 3,
   "metadata": {},
   "outputs": [],
   "source": [
    "df = df[df[\"ESTACION\"]==8]"
   ]
  },
  {
   "cell_type": "code",
   "execution_count": 4,
   "metadata": {},
   "outputs": [],
   "source": [
    "df['FECHA'] = pd.to_datetime(df['FECHA'], format = '%Y-%m-%d %H:%M:%S')"
   ]
  },
  {
   "cell_type": "code",
   "execution_count": 5,
   "metadata": {
    "scrolled": true
   },
   "outputs": [],
   "source": [
    "df.index = df['FECHA']"
   ]
  },
  {
   "cell_type": "code",
   "execution_count": 6,
   "metadata": {},
   "outputs": [],
   "source": [
    "df.drop(['Unnamed: 0', 'ESTACION', 'FECHA'], axis=1, inplace=True)\n",
    "df.dropna(inplace=True)"
   ]
  },
  {
   "cell_type": "code",
   "execution_count": 7,
   "metadata": {},
   "outputs": [
    {
     "data": {
      "text/plain": [
       "SO2     float64\n",
       "CO      float64\n",
       "NO2     float64\n",
       "PM10    float64\n",
       "O3      float64\n",
       "dtype: object"
      ]
     },
     "execution_count": 7,
     "metadata": {},
     "output_type": "execute_result"
    }
   ],
   "source": [
    "#check the dtypes\n",
    "df.dtypes"
   ]
  },
  {
   "cell_type": "code",
   "execution_count": 8,
   "metadata": {},
   "outputs": [
    {
     "data": {
      "text/plain": [
       "array([0.13259921, 0.09934309, 0.05633134, 0.01949153, 0.00361836])"
      ]
     },
     "execution_count": 8,
     "metadata": {},
     "output_type": "execute_result"
    }
   ],
   "source": [
    "# Chequeo la estacionariedad\n",
    "from statsmodels.tsa.vector_ar.vecm import coint_johansen\n",
    "\n",
    "coint_johansen(df,-1,1).eig"
   ]
  },
  {
   "cell_type": "code",
   "execution_count": 9,
   "metadata": {},
   "outputs": [],
   "source": [
    "# Creando los conjuntos de datos de train y validation\n",
    "train = df[:int(0.8*(len(df)))]\n",
    "valid = df[int(0.8*(len(df))):]"
   ]
  },
  {
   "cell_type": "code",
   "execution_count": 10,
   "metadata": {},
   "outputs": [
    {
     "name": "stderr",
     "output_type": "stream",
     "text": [
      "/Users/miguel/Dev/anaconda3/lib/python3.7/site-packages/statsmodels/tsa/base/tsa_model.py:225: ValueWarning: A date index has been provided, but it has no associated frequency information and so will be ignored when e.g. forecasting.\n",
      "  ' ignored when e.g. forecasting.', ValueWarning)\n"
     ]
    }
   ],
   "source": [
    "# Entreno el modelo\n",
    "from statsmodels.tsa.vector_ar.var_model import VAR\n",
    "\n",
    "model = VAR(endog=train)\n",
    "model_fit = model.fit()"
   ]
  },
  {
   "cell_type": "code",
   "execution_count": 11,
   "metadata": {},
   "outputs": [],
   "source": [
    "# Hago predicción sobre los datos de validation\n",
    "prediction = model_fit.forecast(model_fit.y, steps=len(valid))"
   ]
  },
  {
   "cell_type": "code",
   "execution_count": 12,
   "metadata": {},
   "outputs": [],
   "source": [
    "# Convierto prediction a dataframe\n",
    "cols = df.columns\n",
    "pred = pd.DataFrame(index=range(0,len(prediction)),columns=[cols])\n",
    "\n",
    "for j in range(0,5):\n",
    "    for i in range(0, len(prediction)):\n",
    "       pred.iloc[i][j] = prediction[i][j]"
   ]
  },
  {
   "cell_type": "code",
   "execution_count": 13,
   "metadata": {},
   "outputs": [
    {
     "name": "stdout",
     "output_type": "stream",
     "text": [
      "RMSE values\n",
      "SO2 : 5.105466860213757\n",
      "CO : 0.24448301203082343\n",
      "NO2 : 30.941074903069413\n",
      "PM10 : 18.61386343623298\n",
      "O3 : 31.809517664876644\n",
      "El error medio es:  6.361903532975329\n"
     ]
    }
   ],
   "source": [
    "from math import sqrt\n",
    "from sklearn.metrics import mean_squared_error\n",
    "\n",
    "#check RMSE\n",
    "print('RMSE values')\n",
    "media=0\n",
    "for i in cols:\n",
    "    print(i, ':', sqrt(mean_squared_error(pred[i], valid[i])))\n",
    "    media =+ sqrt(mean_squared_error(pred[i], valid[i]))\n",
    "    \n",
    "media = media/5\n",
    "print(\"El error medio es: \", media)"
   ]
  },
  {
   "cell_type": "code",
   "execution_count": 14,
   "metadata": {},
   "outputs": [
    {
     "name": "stderr",
     "output_type": "stream",
     "text": [
      "/Users/miguel/Dev/anaconda3/lib/python3.7/site-packages/statsmodels/tsa/base/tsa_model.py:225: ValueWarning: A date index has been provided, but it has no associated frequency information and so will be ignored when e.g. forecasting.\n",
      "  ' ignored when e.g. forecasting.', ValueWarning)\n"
     ]
    },
    {
     "data": {
      "text/plain": [
       "array([[ 8.30566954,  0.16046591, 38.1613323 , 10.0524286 , 50.97298688],\n",
       "       [ 8.55244992,  0.2108377 , 42.35559698, 11.87361061, 49.79172223],\n",
       "       [ 8.74969519,  0.25253609, 45.74366815, 13.47736702, 48.79350657],\n",
       "       ...,\n",
       "       [ 9.11886142,  0.41592905, 57.28116564, 22.32883794, 41.89994652],\n",
       "       [ 9.11886142,  0.41592905, 57.28116564, 22.32883794, 41.89994652],\n",
       "       [ 9.11886142,  0.41592905, 57.28116564, 22.32883794, 41.89994652]])"
      ]
     },
     "execution_count": 14,
     "metadata": {},
     "output_type": "execute_result"
    }
   ],
   "source": [
    "# Hago predicciones finales\n",
    "horas_a_predecir = 24 * 30\n",
    "model = VAR(endog=df)\n",
    "model_fit = model.fit()\n",
    "prediction_final = model_fit.forecast(model_fit.y, steps=horas_a_predecir)\n",
    "prediction_final"
   ]
  },
  {
   "cell_type": "code",
   "execution_count": 15,
   "metadata": {},
   "outputs": [],
   "source": [
    "# Convierto predicciones finales a dataframe\n",
    "cols = df.columns\n",
    "pred_final = pd.DataFrame(index=range(0,len(prediction_final)),columns=[cols])\n",
    "\n",
    "for j in range(0,5):\n",
    "    for i in range(0, len(prediction_final)):\n",
    "        pred_final.iloc[i][j] = prediction_final[i][j]"
   ]
  },
  {
   "cell_type": "code",
   "execution_count": 16,
   "metadata": {},
   "outputs": [
    {
     "data": {
      "text/html": [
       "<div>\n",
       "<style scoped>\n",
       "    .dataframe tbody tr th:only-of-type {\n",
       "        vertical-align: middle;\n",
       "    }\n",
       "\n",
       "    .dataframe tbody tr th {\n",
       "        vertical-align: top;\n",
       "    }\n",
       "\n",
       "    .dataframe thead tr th {\n",
       "        text-align: left;\n",
       "    }\n",
       "</style>\n",
       "<table border=\"1\" class=\"dataframe\">\n",
       "  <thead>\n",
       "    <tr>\n",
       "      <th></th>\n",
       "      <th>SO2</th>\n",
       "      <th>CO</th>\n",
       "      <th>NO2</th>\n",
       "      <th>PM10</th>\n",
       "      <th>O3</th>\n",
       "    </tr>\n",
       "  </thead>\n",
       "  <tbody>\n",
       "    <tr>\n",
       "      <th>2019-04-01 00:00:00</th>\n",
       "      <td>8.30567</td>\n",
       "      <td>0.160466</td>\n",
       "      <td>38.1613</td>\n",
       "      <td>10.0524</td>\n",
       "      <td>50.973</td>\n",
       "    </tr>\n",
       "    <tr>\n",
       "      <th>2019-04-01 01:00:00</th>\n",
       "      <td>8.55245</td>\n",
       "      <td>0.210838</td>\n",
       "      <td>42.3556</td>\n",
       "      <td>11.8736</td>\n",
       "      <td>49.7917</td>\n",
       "    </tr>\n",
       "    <tr>\n",
       "      <th>2019-04-01 02:00:00</th>\n",
       "      <td>8.7497</td>\n",
       "      <td>0.252536</td>\n",
       "      <td>45.7437</td>\n",
       "      <td>13.4774</td>\n",
       "      <td>48.7935</td>\n",
       "    </tr>\n",
       "    <tr>\n",
       "      <th>2019-04-01 03:00:00</th>\n",
       "      <td>8.90558</td>\n",
       "      <td>0.286839</td>\n",
       "      <td>48.4636</td>\n",
       "      <td>14.8801</td>\n",
       "      <td>47.95</td>\n",
       "    </tr>\n",
       "    <tr>\n",
       "      <th>2019-04-01 04:00:00</th>\n",
       "      <td>9.02718</td>\n",
       "      <td>0.314882</td>\n",
       "      <td>50.6331</td>\n",
       "      <td>16.0994</td>\n",
       "      <td>47.2366</td>\n",
       "    </tr>\n",
       "    <tr>\n",
       "      <th>2019-04-01 05:00:00</th>\n",
       "      <td>9.12057</td>\n",
       "      <td>0.337661</td>\n",
       "      <td>52.3517</td>\n",
       "      <td>17.1532</td>\n",
       "      <td>46.6325</td>\n",
       "    </tr>\n",
       "    <tr>\n",
       "      <th>2019-04-01 06:00:00</th>\n",
       "      <td>9.19092</td>\n",
       "      <td>0.356043</td>\n",
       "      <td>53.703</td>\n",
       "      <td>18.0592</td>\n",
       "      <td>46.1198</td>\n",
       "    </tr>\n",
       "    <tr>\n",
       "      <th>2019-04-01 07:00:00</th>\n",
       "      <td>9.24259</td>\n",
       "      <td>0.370774</td>\n",
       "      <td>54.7569</td>\n",
       "      <td>18.8342</td>\n",
       "      <td>45.6834</td>\n",
       "    </tr>\n",
       "    <tr>\n",
       "      <th>2019-04-01 08:00:00</th>\n",
       "      <td>9.27927</td>\n",
       "      <td>0.382495</td>\n",
       "      <td>55.5715</td>\n",
       "      <td>19.4939</td>\n",
       "      <td>45.3106</td>\n",
       "    </tr>\n",
       "    <tr>\n",
       "      <th>2019-04-01 09:00:00</th>\n",
       "      <td>9.30401</td>\n",
       "      <td>0.391746</td>\n",
       "      <td>56.1947</td>\n",
       "      <td>20.0529</td>\n",
       "      <td>44.9907</td>\n",
       "    </tr>\n",
       "    <tr>\n",
       "      <th>2019-04-01 10:00:00</th>\n",
       "      <td>9.31933</td>\n",
       "      <td>0.398986</td>\n",
       "      <td>56.6657</td>\n",
       "      <td>20.5244</td>\n",
       "      <td>44.7148</td>\n",
       "    </tr>\n",
       "    <tr>\n",
       "      <th>2019-04-01 11:00:00</th>\n",
       "      <td>9.32732</td>\n",
       "      <td>0.404596</td>\n",
       "      <td>57.0167</td>\n",
       "      <td>20.9202</td>\n",
       "      <td>44.4756</td>\n",
       "    </tr>\n",
       "    <tr>\n",
       "      <th>2019-04-01 12:00:00</th>\n",
       "      <td>9.32968</td>\n",
       "      <td>0.408896</td>\n",
       "      <td>57.2737</td>\n",
       "      <td>21.2509</td>\n",
       "      <td>44.2669</td>\n",
       "    </tr>\n",
       "    <tr>\n",
       "      <th>2019-04-01 13:00:00</th>\n",
       "      <td>9.32779</td>\n",
       "      <td>0.412149</td>\n",
       "      <td>57.4576</td>\n",
       "      <td>21.5259</td>\n",
       "      <td>44.0836</td>\n",
       "    </tr>\n",
       "    <tr>\n",
       "      <th>2019-04-01 14:00:00</th>\n",
       "      <td>9.32276</td>\n",
       "      <td>0.41457</td>\n",
       "      <td>57.5853</td>\n",
       "      <td>21.7533</td>\n",
       "      <td>43.9215</td>\n",
       "    </tr>\n",
       "    <tr>\n",
       "      <th>2019-04-01 15:00:00</th>\n",
       "      <td>9.31547</td>\n",
       "      <td>0.416338</td>\n",
       "      <td>57.6701</td>\n",
       "      <td>21.9404</td>\n",
       "      <td>43.7773</td>\n",
       "    </tr>\n",
       "    <tr>\n",
       "      <th>2019-04-01 16:00:00</th>\n",
       "      <td>9.30662</td>\n",
       "      <td>0.417596</td>\n",
       "      <td>57.7226</td>\n",
       "      <td>22.0933</td>\n",
       "      <td>43.648</td>\n",
       "    </tr>\n",
       "    <tr>\n",
       "      <th>2019-04-01 17:00:00</th>\n",
       "      <td>9.29677</td>\n",
       "      <td>0.418459</td>\n",
       "      <td>57.7512</td>\n",
       "      <td>22.2174</td>\n",
       "      <td>43.5314</td>\n",
       "    </tr>\n",
       "    <tr>\n",
       "      <th>2019-04-01 18:00:00</th>\n",
       "      <td>9.28634</td>\n",
       "      <td>0.41902</td>\n",
       "      <td>57.7623</td>\n",
       "      <td>22.3174</td>\n",
       "      <td>43.4257</td>\n",
       "    </tr>\n",
       "    <tr>\n",
       "      <th>2019-04-01 19:00:00</th>\n",
       "      <td>9.27565</td>\n",
       "      <td>0.419354</td>\n",
       "      <td>57.7608</td>\n",
       "      <td>22.3971</td>\n",
       "      <td>43.3292</td>\n",
       "    </tr>\n",
       "    <tr>\n",
       "      <th>2019-04-01 20:00:00</th>\n",
       "      <td>9.26496</td>\n",
       "      <td>0.419518</td>\n",
       "      <td>57.7508</td>\n",
       "      <td>22.4599</td>\n",
       "      <td>43.2407</td>\n",
       "    </tr>\n",
       "    <tr>\n",
       "      <th>2019-04-01 21:00:00</th>\n",
       "      <td>9.25443</td>\n",
       "      <td>0.419559</td>\n",
       "      <td>57.7349</td>\n",
       "      <td>22.5088</td>\n",
       "      <td>43.1591</td>\n",
       "    </tr>\n",
       "    <tr>\n",
       "      <th>2019-04-01 22:00:00</th>\n",
       "      <td>9.24421</td>\n",
       "      <td>0.419511</td>\n",
       "      <td>57.7154</td>\n",
       "      <td>22.546</td>\n",
       "      <td>43.0837</td>\n",
       "    </tr>\n",
       "    <tr>\n",
       "      <th>2019-04-01 23:00:00</th>\n",
       "      <td>9.23439</td>\n",
       "      <td>0.419402</td>\n",
       "      <td>57.6939</td>\n",
       "      <td>22.5737</td>\n",
       "      <td>43.0137</td>\n",
       "    </tr>\n",
       "    <tr>\n",
       "      <th>2019-04-02 00:00:00</th>\n",
       "      <td>9.22501</td>\n",
       "      <td>0.419254</td>\n",
       "      <td>57.6715</td>\n",
       "      <td>22.5935</td>\n",
       "      <td>42.9485</td>\n",
       "    </tr>\n",
       "    <tr>\n",
       "      <th>2019-04-02 01:00:00</th>\n",
       "      <td>9.21612</td>\n",
       "      <td>0.419081</td>\n",
       "      <td>57.649</td>\n",
       "      <td>22.6069</td>\n",
       "      <td>42.8876</td>\n",
       "    </tr>\n",
       "    <tr>\n",
       "      <th>2019-04-02 02:00:00</th>\n",
       "      <td>9.20774</td>\n",
       "      <td>0.418895</td>\n",
       "      <td>57.627</td>\n",
       "      <td>22.6151</td>\n",
       "      <td>42.8307</td>\n",
       "    </tr>\n",
       "    <tr>\n",
       "      <th>2019-04-02 03:00:00</th>\n",
       "      <td>9.19987</td>\n",
       "      <td>0.418705</td>\n",
       "      <td>57.6059</td>\n",
       "      <td>22.6191</td>\n",
       "      <td>42.7774</td>\n",
       "    </tr>\n",
       "    <tr>\n",
       "      <th>2019-04-02 04:00:00</th>\n",
       "      <td>9.1925</td>\n",
       "      <td>0.418516</td>\n",
       "      <td>57.5858</td>\n",
       "      <td>22.6197</td>\n",
       "      <td>42.7273</td>\n",
       "    </tr>\n",
       "    <tr>\n",
       "      <th>2019-04-02 05:00:00</th>\n",
       "      <td>9.18561</td>\n",
       "      <td>0.418333</td>\n",
       "      <td>57.5669</td>\n",
       "      <td>22.6176</td>\n",
       "      <td>42.6803</td>\n",
       "    </tr>\n",
       "    <tr>\n",
       "      <th>...</th>\n",
       "      <td>...</td>\n",
       "      <td>...</td>\n",
       "      <td>...</td>\n",
       "      <td>...</td>\n",
       "      <td>...</td>\n",
       "    </tr>\n",
       "    <tr>\n",
       "      <th>2019-04-29 18:00:00</th>\n",
       "      <td>9.11886</td>\n",
       "      <td>0.415929</td>\n",
       "      <td>57.2812</td>\n",
       "      <td>22.3288</td>\n",
       "      <td>41.8999</td>\n",
       "    </tr>\n",
       "    <tr>\n",
       "      <th>2019-04-29 19:00:00</th>\n",
       "      <td>9.11886</td>\n",
       "      <td>0.415929</td>\n",
       "      <td>57.2812</td>\n",
       "      <td>22.3288</td>\n",
       "      <td>41.8999</td>\n",
       "    </tr>\n",
       "    <tr>\n",
       "      <th>2019-04-29 20:00:00</th>\n",
       "      <td>9.11886</td>\n",
       "      <td>0.415929</td>\n",
       "      <td>57.2812</td>\n",
       "      <td>22.3288</td>\n",
       "      <td>41.8999</td>\n",
       "    </tr>\n",
       "    <tr>\n",
       "      <th>2019-04-29 21:00:00</th>\n",
       "      <td>9.11886</td>\n",
       "      <td>0.415929</td>\n",
       "      <td>57.2812</td>\n",
       "      <td>22.3288</td>\n",
       "      <td>41.8999</td>\n",
       "    </tr>\n",
       "    <tr>\n",
       "      <th>2019-04-29 22:00:00</th>\n",
       "      <td>9.11886</td>\n",
       "      <td>0.415929</td>\n",
       "      <td>57.2812</td>\n",
       "      <td>22.3288</td>\n",
       "      <td>41.8999</td>\n",
       "    </tr>\n",
       "    <tr>\n",
       "      <th>2019-04-29 23:00:00</th>\n",
       "      <td>9.11886</td>\n",
       "      <td>0.415929</td>\n",
       "      <td>57.2812</td>\n",
       "      <td>22.3288</td>\n",
       "      <td>41.8999</td>\n",
       "    </tr>\n",
       "    <tr>\n",
       "      <th>2019-04-30 00:00:00</th>\n",
       "      <td>9.11886</td>\n",
       "      <td>0.415929</td>\n",
       "      <td>57.2812</td>\n",
       "      <td>22.3288</td>\n",
       "      <td>41.8999</td>\n",
       "    </tr>\n",
       "    <tr>\n",
       "      <th>2019-04-30 01:00:00</th>\n",
       "      <td>9.11886</td>\n",
       "      <td>0.415929</td>\n",
       "      <td>57.2812</td>\n",
       "      <td>22.3288</td>\n",
       "      <td>41.8999</td>\n",
       "    </tr>\n",
       "    <tr>\n",
       "      <th>2019-04-30 02:00:00</th>\n",
       "      <td>9.11886</td>\n",
       "      <td>0.415929</td>\n",
       "      <td>57.2812</td>\n",
       "      <td>22.3288</td>\n",
       "      <td>41.8999</td>\n",
       "    </tr>\n",
       "    <tr>\n",
       "      <th>2019-04-30 03:00:00</th>\n",
       "      <td>9.11886</td>\n",
       "      <td>0.415929</td>\n",
       "      <td>57.2812</td>\n",
       "      <td>22.3288</td>\n",
       "      <td>41.8999</td>\n",
       "    </tr>\n",
       "    <tr>\n",
       "      <th>2019-04-30 04:00:00</th>\n",
       "      <td>9.11886</td>\n",
       "      <td>0.415929</td>\n",
       "      <td>57.2812</td>\n",
       "      <td>22.3288</td>\n",
       "      <td>41.8999</td>\n",
       "    </tr>\n",
       "    <tr>\n",
       "      <th>2019-04-30 05:00:00</th>\n",
       "      <td>9.11886</td>\n",
       "      <td>0.415929</td>\n",
       "      <td>57.2812</td>\n",
       "      <td>22.3288</td>\n",
       "      <td>41.8999</td>\n",
       "    </tr>\n",
       "    <tr>\n",
       "      <th>2019-04-30 06:00:00</th>\n",
       "      <td>9.11886</td>\n",
       "      <td>0.415929</td>\n",
       "      <td>57.2812</td>\n",
       "      <td>22.3288</td>\n",
       "      <td>41.8999</td>\n",
       "    </tr>\n",
       "    <tr>\n",
       "      <th>2019-04-30 07:00:00</th>\n",
       "      <td>9.11886</td>\n",
       "      <td>0.415929</td>\n",
       "      <td>57.2812</td>\n",
       "      <td>22.3288</td>\n",
       "      <td>41.8999</td>\n",
       "    </tr>\n",
       "    <tr>\n",
       "      <th>2019-04-30 08:00:00</th>\n",
       "      <td>9.11886</td>\n",
       "      <td>0.415929</td>\n",
       "      <td>57.2812</td>\n",
       "      <td>22.3288</td>\n",
       "      <td>41.8999</td>\n",
       "    </tr>\n",
       "    <tr>\n",
       "      <th>2019-04-30 09:00:00</th>\n",
       "      <td>9.11886</td>\n",
       "      <td>0.415929</td>\n",
       "      <td>57.2812</td>\n",
       "      <td>22.3288</td>\n",
       "      <td>41.8999</td>\n",
       "    </tr>\n",
       "    <tr>\n",
       "      <th>2019-04-30 10:00:00</th>\n",
       "      <td>9.11886</td>\n",
       "      <td>0.415929</td>\n",
       "      <td>57.2812</td>\n",
       "      <td>22.3288</td>\n",
       "      <td>41.8999</td>\n",
       "    </tr>\n",
       "    <tr>\n",
       "      <th>2019-04-30 11:00:00</th>\n",
       "      <td>9.11886</td>\n",
       "      <td>0.415929</td>\n",
       "      <td>57.2812</td>\n",
       "      <td>22.3288</td>\n",
       "      <td>41.8999</td>\n",
       "    </tr>\n",
       "    <tr>\n",
       "      <th>2019-04-30 12:00:00</th>\n",
       "      <td>9.11886</td>\n",
       "      <td>0.415929</td>\n",
       "      <td>57.2812</td>\n",
       "      <td>22.3288</td>\n",
       "      <td>41.8999</td>\n",
       "    </tr>\n",
       "    <tr>\n",
       "      <th>2019-04-30 13:00:00</th>\n",
       "      <td>9.11886</td>\n",
       "      <td>0.415929</td>\n",
       "      <td>57.2812</td>\n",
       "      <td>22.3288</td>\n",
       "      <td>41.8999</td>\n",
       "    </tr>\n",
       "    <tr>\n",
       "      <th>2019-04-30 14:00:00</th>\n",
       "      <td>9.11886</td>\n",
       "      <td>0.415929</td>\n",
       "      <td>57.2812</td>\n",
       "      <td>22.3288</td>\n",
       "      <td>41.8999</td>\n",
       "    </tr>\n",
       "    <tr>\n",
       "      <th>2019-04-30 15:00:00</th>\n",
       "      <td>9.11886</td>\n",
       "      <td>0.415929</td>\n",
       "      <td>57.2812</td>\n",
       "      <td>22.3288</td>\n",
       "      <td>41.8999</td>\n",
       "    </tr>\n",
       "    <tr>\n",
       "      <th>2019-04-30 16:00:00</th>\n",
       "      <td>9.11886</td>\n",
       "      <td>0.415929</td>\n",
       "      <td>57.2812</td>\n",
       "      <td>22.3288</td>\n",
       "      <td>41.8999</td>\n",
       "    </tr>\n",
       "    <tr>\n",
       "      <th>2019-04-30 17:00:00</th>\n",
       "      <td>9.11886</td>\n",
       "      <td>0.415929</td>\n",
       "      <td>57.2812</td>\n",
       "      <td>22.3288</td>\n",
       "      <td>41.8999</td>\n",
       "    </tr>\n",
       "    <tr>\n",
       "      <th>2019-04-30 18:00:00</th>\n",
       "      <td>9.11886</td>\n",
       "      <td>0.415929</td>\n",
       "      <td>57.2812</td>\n",
       "      <td>22.3288</td>\n",
       "      <td>41.8999</td>\n",
       "    </tr>\n",
       "    <tr>\n",
       "      <th>2019-04-30 19:00:00</th>\n",
       "      <td>9.11886</td>\n",
       "      <td>0.415929</td>\n",
       "      <td>57.2812</td>\n",
       "      <td>22.3288</td>\n",
       "      <td>41.8999</td>\n",
       "    </tr>\n",
       "    <tr>\n",
       "      <th>2019-04-30 20:00:00</th>\n",
       "      <td>9.11886</td>\n",
       "      <td>0.415929</td>\n",
       "      <td>57.2812</td>\n",
       "      <td>22.3288</td>\n",
       "      <td>41.8999</td>\n",
       "    </tr>\n",
       "    <tr>\n",
       "      <th>2019-04-30 21:00:00</th>\n",
       "      <td>9.11886</td>\n",
       "      <td>0.415929</td>\n",
       "      <td>57.2812</td>\n",
       "      <td>22.3288</td>\n",
       "      <td>41.8999</td>\n",
       "    </tr>\n",
       "    <tr>\n",
       "      <th>2019-04-30 22:00:00</th>\n",
       "      <td>9.11886</td>\n",
       "      <td>0.415929</td>\n",
       "      <td>57.2812</td>\n",
       "      <td>22.3288</td>\n",
       "      <td>41.8999</td>\n",
       "    </tr>\n",
       "    <tr>\n",
       "      <th>2019-04-30 23:00:00</th>\n",
       "      <td>9.11886</td>\n",
       "      <td>0.415929</td>\n",
       "      <td>57.2812</td>\n",
       "      <td>22.3288</td>\n",
       "      <td>41.8999</td>\n",
       "    </tr>\n",
       "  </tbody>\n",
       "</table>\n",
       "<p>720 rows × 5 columns</p>\n",
       "</div>"
      ],
      "text/plain": [
       "                         SO2        CO      NO2     PM10       O3\n",
       "2019-04-01 00:00:00  8.30567  0.160466  38.1613  10.0524   50.973\n",
       "2019-04-01 01:00:00  8.55245  0.210838  42.3556  11.8736  49.7917\n",
       "2019-04-01 02:00:00   8.7497  0.252536  45.7437  13.4774  48.7935\n",
       "2019-04-01 03:00:00  8.90558  0.286839  48.4636  14.8801    47.95\n",
       "2019-04-01 04:00:00  9.02718  0.314882  50.6331  16.0994  47.2366\n",
       "2019-04-01 05:00:00  9.12057  0.337661  52.3517  17.1532  46.6325\n",
       "2019-04-01 06:00:00  9.19092  0.356043   53.703  18.0592  46.1198\n",
       "2019-04-01 07:00:00  9.24259  0.370774  54.7569  18.8342  45.6834\n",
       "2019-04-01 08:00:00  9.27927  0.382495  55.5715  19.4939  45.3106\n",
       "2019-04-01 09:00:00  9.30401  0.391746  56.1947  20.0529  44.9907\n",
       "2019-04-01 10:00:00  9.31933  0.398986  56.6657  20.5244  44.7148\n",
       "2019-04-01 11:00:00  9.32732  0.404596  57.0167  20.9202  44.4756\n",
       "2019-04-01 12:00:00  9.32968  0.408896  57.2737  21.2509  44.2669\n",
       "2019-04-01 13:00:00  9.32779  0.412149  57.4576  21.5259  44.0836\n",
       "2019-04-01 14:00:00  9.32276   0.41457  57.5853  21.7533  43.9215\n",
       "2019-04-01 15:00:00  9.31547  0.416338  57.6701  21.9404  43.7773\n",
       "2019-04-01 16:00:00  9.30662  0.417596  57.7226  22.0933   43.648\n",
       "2019-04-01 17:00:00  9.29677  0.418459  57.7512  22.2174  43.5314\n",
       "2019-04-01 18:00:00  9.28634   0.41902  57.7623  22.3174  43.4257\n",
       "2019-04-01 19:00:00  9.27565  0.419354  57.7608  22.3971  43.3292\n",
       "2019-04-01 20:00:00  9.26496  0.419518  57.7508  22.4599  43.2407\n",
       "2019-04-01 21:00:00  9.25443  0.419559  57.7349  22.5088  43.1591\n",
       "2019-04-01 22:00:00  9.24421  0.419511  57.7154   22.546  43.0837\n",
       "2019-04-01 23:00:00  9.23439  0.419402  57.6939  22.5737  43.0137\n",
       "2019-04-02 00:00:00  9.22501  0.419254  57.6715  22.5935  42.9485\n",
       "2019-04-02 01:00:00  9.21612  0.419081   57.649  22.6069  42.8876\n",
       "2019-04-02 02:00:00  9.20774  0.418895   57.627  22.6151  42.8307\n",
       "2019-04-02 03:00:00  9.19987  0.418705  57.6059  22.6191  42.7774\n",
       "2019-04-02 04:00:00   9.1925  0.418516  57.5858  22.6197  42.7273\n",
       "2019-04-02 05:00:00  9.18561  0.418333  57.5669  22.6176  42.6803\n",
       "...                      ...       ...      ...      ...      ...\n",
       "2019-04-29 18:00:00  9.11886  0.415929  57.2812  22.3288  41.8999\n",
       "2019-04-29 19:00:00  9.11886  0.415929  57.2812  22.3288  41.8999\n",
       "2019-04-29 20:00:00  9.11886  0.415929  57.2812  22.3288  41.8999\n",
       "2019-04-29 21:00:00  9.11886  0.415929  57.2812  22.3288  41.8999\n",
       "2019-04-29 22:00:00  9.11886  0.415929  57.2812  22.3288  41.8999\n",
       "2019-04-29 23:00:00  9.11886  0.415929  57.2812  22.3288  41.8999\n",
       "2019-04-30 00:00:00  9.11886  0.415929  57.2812  22.3288  41.8999\n",
       "2019-04-30 01:00:00  9.11886  0.415929  57.2812  22.3288  41.8999\n",
       "2019-04-30 02:00:00  9.11886  0.415929  57.2812  22.3288  41.8999\n",
       "2019-04-30 03:00:00  9.11886  0.415929  57.2812  22.3288  41.8999\n",
       "2019-04-30 04:00:00  9.11886  0.415929  57.2812  22.3288  41.8999\n",
       "2019-04-30 05:00:00  9.11886  0.415929  57.2812  22.3288  41.8999\n",
       "2019-04-30 06:00:00  9.11886  0.415929  57.2812  22.3288  41.8999\n",
       "2019-04-30 07:00:00  9.11886  0.415929  57.2812  22.3288  41.8999\n",
       "2019-04-30 08:00:00  9.11886  0.415929  57.2812  22.3288  41.8999\n",
       "2019-04-30 09:00:00  9.11886  0.415929  57.2812  22.3288  41.8999\n",
       "2019-04-30 10:00:00  9.11886  0.415929  57.2812  22.3288  41.8999\n",
       "2019-04-30 11:00:00  9.11886  0.415929  57.2812  22.3288  41.8999\n",
       "2019-04-30 12:00:00  9.11886  0.415929  57.2812  22.3288  41.8999\n",
       "2019-04-30 13:00:00  9.11886  0.415929  57.2812  22.3288  41.8999\n",
       "2019-04-30 14:00:00  9.11886  0.415929  57.2812  22.3288  41.8999\n",
       "2019-04-30 15:00:00  9.11886  0.415929  57.2812  22.3288  41.8999\n",
       "2019-04-30 16:00:00  9.11886  0.415929  57.2812  22.3288  41.8999\n",
       "2019-04-30 17:00:00  9.11886  0.415929  57.2812  22.3288  41.8999\n",
       "2019-04-30 18:00:00  9.11886  0.415929  57.2812  22.3288  41.8999\n",
       "2019-04-30 19:00:00  9.11886  0.415929  57.2812  22.3288  41.8999\n",
       "2019-04-30 20:00:00  9.11886  0.415929  57.2812  22.3288  41.8999\n",
       "2019-04-30 21:00:00  9.11886  0.415929  57.2812  22.3288  41.8999\n",
       "2019-04-30 22:00:00  9.11886  0.415929  57.2812  22.3288  41.8999\n",
       "2019-04-30 23:00:00  9.11886  0.415929  57.2812  22.3288  41.8999\n",
       "\n",
       "[720 rows x 5 columns]"
      ]
     },
     "execution_count": 16,
     "metadata": {},
     "output_type": "execute_result"
    }
   ],
   "source": [
    "# Generando fechas para la predicción y asignándola de índice en el dataframe\n",
    "import datetime\n",
    "datelist = pd.date_range(max(df.index) + datetime.timedelta(hours=1), \n",
    "                         freq='H', periods=len(pred_final))\n",
    "\n",
    "pred_final.index = datelist\n",
    "\n",
    "pred_final"
   ]
  },
  {
   "cell_type": "code",
   "execution_count": 17,
   "metadata": {},
   "outputs": [
    {
     "data": {
      "text/plain": [
       "[<matplotlib.lines.Line2D at 0x11e1916d8>,\n",
       " <matplotlib.lines.Line2D at 0x120dd6978>,\n",
       " <matplotlib.lines.Line2D at 0x120dd6be0>,\n",
       " <matplotlib.lines.Line2D at 0x120dd6d30>,\n",
       " <matplotlib.lines.Line2D at 0x120dd6e80>]"
      ]
     },
     "execution_count": 17,
     "metadata": {},
     "output_type": "execute_result"
    },
    {
     "data": {
      "image/png": "[encoded data removed]",
      "text/plain": [
       "<Figure size 432x288 with 1 Axes>"
      ]
     },
     "metadata": {
      "needs_background": "light"
     },
     "output_type": "display_data"
    }
   ],
   "source": [
    "plt.plot(pred_final)"
   ]
  },
  {
   "cell_type": "code",
   "execution_count": 18,
   "metadata": {},
   "outputs": [
    {
     "data": {
      "text/plain": [
       "<matplotlib.legend.Legend at 0x120cd6ba8>"
      ]
     },
     "execution_count": 18,
     "metadata": {},
     "output_type": "execute_result"
    },
    {
     "data": {
      "image/png": "[encoded data removed]",
      "text/plain": [
       "<Figure size 432x288 with 1 Axes>"
      ]
     },
     "metadata": {
      "needs_background": "light"
     },
     "output_type": "display_data"
    }
   ],
   "source": [
    "# Sacando gráfica de cada sustancia contaminante con su predicción:\n",
    "\n",
    "# SO2\n",
    "\n",
    "df_all = pd.merge(pd.DataFrame(df['SO2'][-horas_a_predecir:]), \n",
    "                  pd.DataFrame(pred_final['SO2']), \n",
    "                  how = 'outer', left_index=True, right_index=True)\n",
    "plt.plot(df_all)\n",
    "plt.legend(('SO2', 'SO2-predict'))"
   ]
  },
  {
   "cell_type": "code",
   "execution_count": 19,
   "metadata": {},
   "outputs": [
    {
     "data": {
      "text/plain": [
       "<matplotlib.legend.Legend at 0x120d22ac8>"
      ]
     },
     "execution_count": 19,
     "metadata": {},
     "output_type": "execute_result"
    },
    {
     "data": {
      "image/png": "[encoded data removed]",
      "text/plain": [
       "<Figure size 432x288 with 1 Axes>"
      ]
     },
     "metadata": {
      "needs_background": "light"
     },
     "output_type": "display_data"
    }
   ],
   "source": [
    "# CO\n",
    "\n",
    "df_all = pd.merge(pd.DataFrame(df['CO'][-horas_a_predecir:]), \n",
    "                  pd.DataFrame(pred_final['CO']), \n",
    "                  how = 'outer', left_index=True, right_index=True)\n",
    "plt.plot(df_all)\n",
    "plt.legend(('CO', 'CO-predict'))"
   ]
  },
  {
   "cell_type": "code",
   "execution_count": 20,
   "metadata": {},
   "outputs": [
    {
     "data": {
      "text/plain": [
       "<matplotlib.legend.Legend at 0x120d8db70>"
      ]
     },
     "execution_count": 20,
     "metadata": {},
     "output_type": "execute_result"
    },
    {
     "data": {
      "image/png": "[encoded data removed]",
      "text/plain": [
       "<Figure size 432x288 with 1 Axes>"
      ]
     },
     "metadata": {
      "needs_background": "light"
     },
     "output_type": "display_data"
    }
   ],
   "source": [
    "# NO2\n",
    "\n",
    "df_all = pd.merge(pd.DataFrame(df['NO2'][-horas_a_predecir:]), \n",
    "                  pd.DataFrame(pred_final['NO2']), \n",
    "                  how = 'outer', left_index=True, right_index=True)\n",
    "plt.plot(df_all)\n",
    "plt.legend(('NO2', 'NO2-predict'))"
   ]
  },
  {
   "cell_type": "code",
   "execution_count": 21,
   "metadata": {},
   "outputs": [
    {
     "data": {
      "text/plain": [
       "<matplotlib.legend.Legend at 0x120e09128>"
      ]
     },
     "execution_count": 21,
     "metadata": {},
     "output_type": "execute_result"
    },
    {
     "data": {
      "image/png": "[encoded data removed]",
      "text/plain": [
       "<Figure size 432x288 with 1 Axes>"
      ]
     },
     "metadata": {
      "needs_background": "light"
     },
     "output_type": "display_data"
    }
   ],
   "source": [
    "# PM10\n",
    "\n",
    "df_all = pd.merge(pd.DataFrame(df['PM10'][-horas_a_predecir:]), \n",
    "                  pd.DataFrame(pred_final['PM10']), \n",
    "                  how = 'outer', left_index=True, right_index=True)\n",
    "plt.plot(df_all)\n",
    "plt.legend(('PM10', 'PM10-predict'))"
   ]
  },
  {
   "cell_type": "code",
   "execution_count": 22,
   "metadata": {},
   "outputs": [
    {
     "data": {
      "text/plain": [
       "<matplotlib.legend.Legend at 0x121192400>"
      ]
     },
     "execution_count": 22,
     "metadata": {},
     "output_type": "execute_result"
    },
    {
     "data": {
      "image/png": "[encoded data removed]",
      "text/plain": [
       "<Figure size 432x288 with 1 Axes>"
      ]
     },
     "metadata": {
      "needs_background": "light"
     },
     "output_type": "display_data"
    }
   ],
   "source": [
    "# O3\n",
    "\n",
    "df_all = pd.merge(pd.DataFrame(df['O3'][-horas_a_predecir:]), \n",
    "                  pd.DataFrame(pred_final['O3']), \n",
    "                  how = 'outer', left_index=True, right_index=True)\n",
    "plt.plot(df_all)\n",
    "plt.legend(('O3', 'O3-predict'))"
   ]
  }
 ],
 "metadata": {
  "kernelspec": {
   "display_name": "Python 3",
   "language": "python",
   "name": "python3"
  },
  "language_info": {
   "codemirror_mode": {
    "name": "ipython",
    "version": 3
   },
   "file_extension": ".py",
   "mimetype": "text/x-python",
   "name": "python",
   "nbconvert_exporter": "python",
   "pygments_lexer": "ipython3",
   "version": "3.7.1"
  }
 },
 "nbformat": 4,
 "nbformat_minor": 2
}
